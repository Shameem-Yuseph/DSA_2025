{
  "nbformat": 4,
  "nbformat_minor": 0,
  "metadata": {
    "colab": {
      "provenance": [],
      "include_colab_link": true
    },
    "kernelspec": {
      "name": "python3",
      "display_name": "Python 3"
    },
    "language_info": {
      "name": "python"
    }
  },
  "cells": [
    {
      "cell_type": "markdown",
      "metadata": {
        "id": "view-in-github",
        "colab_type": "text"
      },
      "source": [
        "<a href=\"https://colab.research.google.com/github/Shameem-Yuseph/DSA_2025/blob/main/Python_Case_Study_Shameem_Yuseph.ipynb\" target=\"_parent\"><img src=\"https://colab.research.google.com/assets/colab-badge.svg\" alt=\"Open In Colab\"/></a>"
      ]
    },
    {
      "cell_type": "code",
      "execution_count": null,
      "metadata": {
        "colab": {
          "base_uri": "https://localhost:8080/"
        },
        "id": "YJ1moHWPgsYb",
        "outputId": "5100ef08-3773-45bb-8be7-f81b925b7f7f"
      },
      "outputs": [
        {
          "output_type": "stream",
          "name": "stdout",
          "text": [
            "<class 'pandas.core.frame.DataFrame'>\n",
            "RangeIndex: 1000 entries, 0 to 999\n",
            "Data columns (total 12 columns):\n",
            " #   Column              Non-Null Count  Dtype  \n",
            "---  ------              --------------  -----  \n",
            " 0   Rank                1000 non-null   int64  \n",
            " 1   Title               1000 non-null   object \n",
            " 2   Genre               1000 non-null   object \n",
            " 3   Description         1000 non-null   object \n",
            " 4   Director            1000 non-null   object \n",
            " 5   Actors              1000 non-null   object \n",
            " 6   Year                1000 non-null   int64  \n",
            " 7   Runtime (Minutes)   1000 non-null   int64  \n",
            " 8   Rating              1000 non-null   float64\n",
            " 9   Votes               1000 non-null   int64  \n",
            " 10  Revenue (Millions)  872 non-null    float64\n",
            " 11  Metascore           936 non-null    float64\n",
            "dtypes: float64(3), int64(4), object(5)\n",
            "memory usage: 93.9+ KB\n",
            "None\n"
          ]
        }
      ],
      "source": [
        "import pandas as pd\n",
        "import numpy as np\n",
        "\n",
        "data = pd.read_csv(\"IMDB-Movie-Data.csv\")\n",
        "print(data.info())"
      ]
    },
    {
      "cell_type": "code",
      "source": [
        "print(data.shape) # 1000 rows, 12 columns"
      ],
      "metadata": {
        "colab": {
          "base_uri": "https://localhost:8080/"
        },
        "id": "wjEU4dPijmVX",
        "outputId": "633f19ed-54ed-40d2-93d7-069791320ec5"
      },
      "execution_count": null,
      "outputs": [
        {
          "output_type": "stream",
          "name": "stdout",
          "text": [
            "(1000, 12)\n"
          ]
        }
      ]
    },
    {
      "cell_type": "code",
      "source": [
        "print(data.head())"
      ],
      "metadata": {
        "colab": {
          "base_uri": "https://localhost:8080/"
        },
        "id": "va99Jb7Aj6OH",
        "outputId": "6f71a4f8-8bbd-48ce-8a62-70a4695b9adb"
      },
      "execution_count": null,
      "outputs": [
        {
          "output_type": "stream",
          "name": "stdout",
          "text": [
            "   Rank                    Title                     Genre  \\\n",
            "0     1  Guardians of the Galaxy   Action,Adventure,Sci-Fi   \n",
            "1     2               Prometheus  Adventure,Mystery,Sci-Fi   \n",
            "2     3                    Split           Horror,Thriller   \n",
            "3     4                     Sing   Animation,Comedy,Family   \n",
            "4     5            Suicide Squad  Action,Adventure,Fantasy   \n",
            "\n",
            "                                         Description              Director  \\\n",
            "0  A group of intergalactic criminals are forced ...            James Gunn   \n",
            "1  Following clues to the origin of mankind, a te...          Ridley Scott   \n",
            "2  Three girls are kidnapped by a man with a diag...    M. Night Shyamalan   \n",
            "3  In a city of humanoid animals, a hustling thea...  Christophe Lourdelet   \n",
            "4  A secret government agency recruits some of th...            David Ayer   \n",
            "\n",
            "                                              Actors  Year  Runtime (Minutes)  \\\n",
            "0  Chris Pratt, Vin Diesel, Bradley Cooper, Zoe S...  2014                121   \n",
            "1  Noomi Rapace, Logan Marshall-Green, Michael Fa...  2012                124   \n",
            "2  James McAvoy, Anya Taylor-Joy, Haley Lu Richar...  2016                117   \n",
            "3  Matthew McConaughey,Reese Witherspoon, Seth Ma...  2016                108   \n",
            "4  Will Smith, Jared Leto, Margot Robbie, Viola D...  2016                123   \n",
            "\n",
            "   Rating   Votes  Revenue (Millions)  Metascore  \n",
            "0     8.1  757074              333.13       76.0  \n",
            "1     7.0  485820              126.46       65.0  \n",
            "2     7.3  157606              138.12       62.0  \n",
            "3     7.2   60545              270.32       59.0  \n",
            "4     6.2  393727              325.02       40.0  \n"
          ]
        }
      ]
    },
    {
      "cell_type": "code",
      "source": [
        "print(data.dtypes)"
      ],
      "metadata": {
        "colab": {
          "base_uri": "https://localhost:8080/"
        },
        "id": "mY8fO1bxj9qB",
        "outputId": "3d6e24c8-abb3-4912-b305-2881da678a69"
      },
      "execution_count": null,
      "outputs": [
        {
          "output_type": "stream",
          "name": "stdout",
          "text": [
            "Rank                    int64\n",
            "Title                  object\n",
            "Genre                  object\n",
            "Description            object\n",
            "Director               object\n",
            "Actors                 object\n",
            "Year                    int64\n",
            "Runtime (Minutes)       int64\n",
            "Rating                float64\n",
            "Votes                   int64\n",
            "Revenue (Millions)    float64\n",
            "Metascore             float64\n",
            "dtype: object\n"
          ]
        }
      ]
    },
    {
      "cell_type": "code",
      "source": [
        "print(data.columns)"
      ],
      "metadata": {
        "colab": {
          "base_uri": "https://localhost:8080/"
        },
        "id": "lf9RHchTkGDV",
        "outputId": "9fa57b3d-ee3a-4674-fbcb-5b18e5f63da4"
      },
      "execution_count": null,
      "outputs": [
        {
          "output_type": "stream",
          "name": "stdout",
          "text": [
            "Index(['Rank', 'Title', 'Genre', 'Description', 'Director', 'Actors', 'Year',\n",
            "       'Runtime (Minutes)', 'Rating', 'Votes', 'Revenue (Millions)',\n",
            "       'Metascore'],\n",
            "      dtype='object')\n"
          ]
        }
      ]
    },
    {
      "cell_type": "code",
      "source": [
        "missing_data = data[data.isnull().any(axis=1)]\n",
        "print(missing_data)"
      ],
      "metadata": {
        "colab": {
          "base_uri": "https://localhost:8080/"
        },
        "id": "CtyZHfJwm-V9",
        "outputId": "e8aeba0d-a7c6-4a66-d07d-99436a99473d"
      },
      "execution_count": null,
      "outputs": [
        {
          "output_type": "stream",
          "name": "stdout",
          "text": [
            "     Rank                    Title                    Genre  \\\n",
            "7       8                 Mindhorn                   Comedy   \n",
            "22     23           Hounds of Love       Crime,Drama,Horror   \n",
            "25     26          Paris pieds nus                   Comedy   \n",
            "26     27  Bahubali: The Beginning   Action,Adventure,Drama   \n",
            "27     28               Dead Awake          Horror,Thriller   \n",
            "..    ...                      ...                      ...   \n",
            "988   989                  Martyrs                   Horror   \n",
            "989   990                    Selma  Biography,Drama,History   \n",
            "992   993     Take Me Home Tonight     Comedy,Drama,Romance   \n",
            "995   996     Secret in Their Eyes      Crime,Drama,Mystery   \n",
            "998   999             Search Party         Adventure,Comedy   \n",
            "\n",
            "                                           Description        Director  \\\n",
            "7    A has-been actor best known for playing the ti...      Sean Foley   \n",
            "22   A cold-blooded predatory couple while cruising...       Ben Young   \n",
            "25   Fiona visits Paris for the first time to assis...  Dominique Abel   \n",
            "26   In ancient India, an adventurous and daring ma...  S.S. Rajamouli   \n",
            "27   A young woman must save herself and her friend...  Phillip Guzman   \n",
            "..                                                 ...             ...   \n",
            "988  A young woman's quest for revenge against the ...  Pascal Laugier   \n",
            "989  A chronicle of Martin Luther King's campaign t...    Ava DuVernay   \n",
            "992  Four years after graduation, an awkward high s...   Michael Dowse   \n",
            "995  A tight-knit team of rising investigators, alo...       Billy Ray   \n",
            "998  A pair of friends embark on a mission to reuni...  Scot Armstrong   \n",
            "\n",
            "                                                Actors  Year  \\\n",
            "7    Essie Davis, Andrea Riseborough, Julian Barrat...  2016   \n",
            "22   Emma Booth, Ashleigh Cummings, Stephen Curry,S...  2016   \n",
            "25   Fiona Gordon, Dominique Abel,Emmanuelle Riva, ...  2016   \n",
            "26   Prabhas, Rana Daggubati, Anushka Shetty,Tamann...  2015   \n",
            "27   Jocelin Donahue, Jesse Bradford, Jesse Borrego...  2016   \n",
            "..                                                 ...   ...   \n",
            "988  Morjana Alaoui, Mylène Jampanoï, Catherine Bég...  2008   \n",
            "989  David Oyelowo, Carmen Ejogo, Tim Roth, Lorrain...  2014   \n",
            "992  Topher Grace, Anna Faris, Dan Fogler, Teresa P...  2011   \n",
            "995  Chiwetel Ejiofor, Nicole Kidman, Julia Roberts...  2015   \n",
            "998  Adam Pally, T.J. Miller, Thomas Middleditch,Sh...  2014   \n",
            "\n",
            "     Runtime (Minutes)  Rating  Votes  Revenue (Millions)  Metascore  \n",
            "7                   89     6.4   2490                 NaN       71.0  \n",
            "22                 108     6.7   1115                 NaN       72.0  \n",
            "25                  83     6.8    222                 NaN        NaN  \n",
            "26                 159     8.3  76193                6.50        NaN  \n",
            "27                  99     4.7    523                0.01        NaN  \n",
            "..                 ...     ...    ...                 ...        ...  \n",
            "988                 99     7.1  63785                 NaN       89.0  \n",
            "989                128     7.5  67637               52.07        NaN  \n",
            "992                 97     6.3  45419                6.92        NaN  \n",
            "995                111     6.2  27585                 NaN       45.0  \n",
            "998                 93     5.6   4881                 NaN       22.0  \n",
            "\n",
            "[162 rows x 12 columns]\n"
          ]
        }
      ]
    },
    {
      "cell_type": "code",
      "source": [
        "print(data.isnull().sum())"
      ],
      "metadata": {
        "colab": {
          "base_uri": "https://localhost:8080/"
        },
        "id": "RD0Q2vTHonRt",
        "outputId": "82690675-2e13-4b3a-e93c-1b3fc8042e90"
      },
      "execution_count": null,
      "outputs": [
        {
          "output_type": "stream",
          "name": "stdout",
          "text": [
            "Rank                    0\n",
            "Title                   0\n",
            "Genre                   0\n",
            "Description             0\n",
            "Director                0\n",
            "Actors                  0\n",
            "Year                    0\n",
            "Runtime (Minutes)       0\n",
            "Rating                  0\n",
            "Votes                   0\n",
            "Revenue (Millions)    128\n",
            "Metascore              64\n",
            "dtype: int64\n"
          ]
        }
      ]
    },
    {
      "cell_type": "code",
      "source": [
        "dup_data = data[data.duplicated()]\n",
        "print(dup_data)"
      ],
      "metadata": {
        "colab": {
          "base_uri": "https://localhost:8080/"
        },
        "id": "oTXeX7otpdXS",
        "outputId": "0199b57f-4e74-4881-ed9d-a890a5a546b2"
      },
      "execution_count": null,
      "outputs": [
        {
          "output_type": "stream",
          "name": "stdout",
          "text": [
            "Empty DataFrame\n",
            "Columns: [Rank, Title, Genre, Description, Director, Actors, Year, Runtime (Minutes), Rating, Votes, Revenue (Millions), Metascore]\n",
            "Index: []\n"
          ]
        }
      ]
    },
    {
      "cell_type": "code",
      "source": [
        "dc = data.drop_duplicates()\n",
        "print(dc)"
      ],
      "metadata": {
        "colab": {
          "base_uri": "https://localhost:8080/"
        },
        "id": "AHRIemTRsCrn",
        "outputId": "321f2d00-08bd-4093-ad52-50761da77181"
      },
      "execution_count": null,
      "outputs": [
        {
          "output_type": "stream",
          "name": "stdout",
          "text": [
            "     Rank                    Title                     Genre  \\\n",
            "0       1  Guardians of the Galaxy   Action,Adventure,Sci-Fi   \n",
            "1       2               Prometheus  Adventure,Mystery,Sci-Fi   \n",
            "2       3                    Split           Horror,Thriller   \n",
            "3       4                     Sing   Animation,Comedy,Family   \n",
            "4       5            Suicide Squad  Action,Adventure,Fantasy   \n",
            "..    ...                      ...                       ...   \n",
            "995   996     Secret in Their Eyes       Crime,Drama,Mystery   \n",
            "996   997          Hostel: Part II                    Horror   \n",
            "997   998   Step Up 2: The Streets       Drama,Music,Romance   \n",
            "998   999             Search Party          Adventure,Comedy   \n",
            "999  1000               Nine Lives     Comedy,Family,Fantasy   \n",
            "\n",
            "                                           Description              Director  \\\n",
            "0    A group of intergalactic criminals are forced ...            James Gunn   \n",
            "1    Following clues to the origin of mankind, a te...          Ridley Scott   \n",
            "2    Three girls are kidnapped by a man with a diag...    M. Night Shyamalan   \n",
            "3    In a city of humanoid animals, a hustling thea...  Christophe Lourdelet   \n",
            "4    A secret government agency recruits some of th...            David Ayer   \n",
            "..                                                 ...                   ...   \n",
            "995  A tight-knit team of rising investigators, alo...             Billy Ray   \n",
            "996  Three American college students studying abroa...              Eli Roth   \n",
            "997  Romantic sparks occur between two dance studen...            Jon M. Chu   \n",
            "998  A pair of friends embark on a mission to reuni...        Scot Armstrong   \n",
            "999  A stuffy businessman finds himself trapped ins...      Barry Sonnenfeld   \n",
            "\n",
            "                                                Actors  Year  \\\n",
            "0    Chris Pratt, Vin Diesel, Bradley Cooper, Zoe S...  2014   \n",
            "1    Noomi Rapace, Logan Marshall-Green, Michael Fa...  2012   \n",
            "2    James McAvoy, Anya Taylor-Joy, Haley Lu Richar...  2016   \n",
            "3    Matthew McConaughey,Reese Witherspoon, Seth Ma...  2016   \n",
            "4    Will Smith, Jared Leto, Margot Robbie, Viola D...  2016   \n",
            "..                                                 ...   ...   \n",
            "995  Chiwetel Ejiofor, Nicole Kidman, Julia Roberts...  2015   \n",
            "996  Lauren German, Heather Matarazzo, Bijou Philli...  2007   \n",
            "997  Robert Hoffman, Briana Evigan, Cassie Ventura,...  2008   \n",
            "998  Adam Pally, T.J. Miller, Thomas Middleditch,Sh...  2014   \n",
            "999  Kevin Spacey, Jennifer Garner, Robbie Amell,Ch...  2016   \n",
            "\n",
            "     Runtime (Minutes)  Rating   Votes  Revenue (Millions)  Metascore  \n",
            "0                  121     8.1  757074              333.13       76.0  \n",
            "1                  124     7.0  485820              126.46       65.0  \n",
            "2                  117     7.3  157606              138.12       62.0  \n",
            "3                  108     7.2   60545              270.32       59.0  \n",
            "4                  123     6.2  393727              325.02       40.0  \n",
            "..                 ...     ...     ...                 ...        ...  \n",
            "995                111     6.2   27585                 NaN       45.0  \n",
            "996                 94     5.5   73152               17.54       46.0  \n",
            "997                 98     6.2   70699               58.01       50.0  \n",
            "998                 93     5.6    4881                 NaN       22.0  \n",
            "999                 87     5.3   12435               19.64       11.0  \n",
            "\n",
            "[1000 rows x 12 columns]\n"
          ]
        }
      ]
    },
    {
      "cell_type": "code",
      "source": [
        "data.rename(columns={'Revenue (Millions)': 'Revenue(Millions)'}, inplace=True)\n",
        "print(data.columns)"
      ],
      "metadata": {
        "colab": {
          "base_uri": "https://localhost:8080/"
        },
        "id": "7wE_xKtntQ3T",
        "outputId": "456647a6-2ce2-4b0c-adcb-222861b30300"
      },
      "execution_count": null,
      "outputs": [
        {
          "output_type": "stream",
          "name": "stdout",
          "text": [
            "Index(['Rank', 'Title', 'Genre', 'Description', 'Director', 'Actors', 'Year',\n",
            "       'Runtime (Minutes)', 'Rating', 'Votes', 'Revenue(Millions)',\n",
            "       'Metascore'],\n",
            "      dtype='object')\n"
          ]
        }
      ]
    },
    {
      "cell_type": "code",
      "source": [
        "print(data['Genre'].unique())"
      ],
      "metadata": {
        "colab": {
          "base_uri": "https://localhost:8080/"
        },
        "id": "elpwzNTi4lwC",
        "outputId": "71c59b42-3ee6-4610-d66f-db0885ff4792"
      },
      "execution_count": null,
      "outputs": [
        {
          "output_type": "stream",
          "name": "stdout",
          "text": [
            "['Action,Adventure,Sci-Fi' 'Adventure,Mystery,Sci-Fi' 'Horror,Thriller'\n",
            " 'Animation,Comedy,Family' 'Action,Adventure,Fantasy' 'Comedy,Drama,Music'\n",
            " 'Comedy' 'Action,Adventure,Biography' 'Adventure,Drama,Romance'\n",
            " 'Adventure,Family,Fantasy' 'Biography,Drama,History'\n",
            " 'Animation,Adventure,Comedy' 'Action,Comedy,Drama' 'Action,Thriller'\n",
            " 'Biography,Drama' 'Drama,Mystery,Sci-Fi' 'Adventure,Drama,Thriller'\n",
            " 'Drama' 'Crime,Drama,Horror' 'Action,Adventure,Drama' 'Drama,Thriller'\n",
            " 'Action,Adventure,Comedy' 'Action,Horror,Sci-Fi' 'Adventure,Drama,Sci-Fi'\n",
            " 'Action,Adventure,Western' 'Comedy,Drama' 'Horror'\n",
            " 'Adventure,Drama,Fantasy' 'Action,Crime,Thriller' 'Action,Crime,Drama'\n",
            " 'Adventure,Drama,History' 'Crime,Horror,Thriller' 'Drama,Romance'\n",
            " 'Comedy,Drama,Romance' 'Horror,Mystery,Thriller' 'Crime,Drama,Mystery'\n",
            " 'Drama,Romance,Thriller' 'Drama,History,Thriller' 'Action,Drama,Thriller'\n",
            " 'Drama,History' 'Action,Drama,Romance' 'Drama,Fantasy' 'Action,Sci-Fi'\n",
            " 'Adventure,Drama,War' 'Action,Comedy,Fantasy' 'Biography,Comedy,Crime'\n",
            " 'Crime,Drama' 'Comedy,Crime,Drama' 'Action,Comedy,Crime'\n",
            " 'Animation,Drama,Fantasy' 'Horror,Mystery,Sci-Fi'\n",
            " 'Drama,Mystery,Thriller' 'Crime,Drama,Thriller' 'Biography,Crime,Drama'\n",
            " 'Crime,Mystery,Thriller' 'Action,Horror,Thriller' 'Romance,Sci-Fi'\n",
            " 'Action,Fantasy,War' 'Action,Biography,Drama' 'Drama,Horror,Mystery'\n",
            " 'Adventure,Drama,Family' 'Adventure,Comedy,Romance' 'Action'\n",
            " 'Adventure,Crime,Mystery' 'Comedy,Family,Musical'\n",
            " 'Adventure,Comedy,Drama' 'Drama,Horror,Thriller' 'Drama,Music'\n",
            " 'Mystery,Thriller' 'Mystery,Thriller,Western' 'Comedy,Family'\n",
            " 'Biography,Comedy,Drama' 'Drama,Western' 'Drama,Mystery,Romance'\n",
            " 'Action,Drama,Mystery' 'Action,Adventure,Crime'\n",
            " 'Adventure,Sci-Fi,Thriller' 'Action,Comedy,Mystery' 'Thriller,War'\n",
            " 'Action,Adventure,Thriller' 'Drama,Fantasy,Romance'\n",
            " 'Action,Drama,History' 'Animation,Adventure,Family' 'Adventure,Horror'\n",
            " 'Drama,Romance,Sci-Fi' 'Action,Adventure,Family' 'Action,Comedy'\n",
            " 'Comedy,Romance' 'Horror,Mystery' 'Drama,Family,Fantasy' 'Sci-Fi'\n",
            " 'Drama,War' 'Drama,Fantasy,Horror' 'Crime,Drama,History'\n",
            " 'Horror,Sci-Fi,Thriller' 'Action,Drama,Sport' 'Adventure,Biography,Drama'\n",
            " 'Biography,Drama,Thriller' 'Action,Adventure,Mystery' 'Drama,Horror'\n",
            " 'Comedy,Crime' 'Drama,Fantasy,War' 'Action,Adventure,Romance'\n",
            " 'Action,Drama,War' 'Drama,Musical,Romance' 'Drama,Sci-Fi,Thriller'\n",
            " 'Action,Drama,Sci-Fi' 'Drama,Sci-Fi' 'Adventure,Fantasy' 'Thriller'\n",
            " 'Biography,Drama,Romance' 'Action,Adventure' 'Action,Fantasy'\n",
            " 'Action,Drama,Horror' 'Comedy,Music,Romance' 'Biography,Drama,Sport'\n",
            " 'Action,Horror' 'Comedy,Horror,Thriller' 'Crime,Drama,Music'\n",
            " 'Action,Sci-Fi,Thriller' 'Drama,Horror,Sci-Fi' 'Drama,Sport'\n",
            " 'Comedy,Horror' 'Comedy,Fantasy,Romance' 'Comedy,Fantasy'\n",
            " 'Comedy,Drama,Fantasy' 'Adventure,Comedy,Horror' 'Comedy,Mystery'\n",
            " 'Action,Mystery,Sci-Fi' 'Action,Crime,Fantasy' 'Comedy,Fantasy,Horror'\n",
            " 'Animation,Action,Adventure' 'Action,Comedy,Family' 'Comedy,Sci-Fi'\n",
            " 'Action,Biography,Crime' 'Adventure,Comedy' 'Comedy,Music'\n",
            " 'Comedy,Drama,Horror' 'Action,Horror,Romance' 'Action,Drama,Fantasy'\n",
            " 'Action,Mystery,Thriller' 'Action,Adventure,Horror'\n",
            " 'Animation,Family,Fantasy' 'Adventure,Horror,Mystery'\n",
            " 'Action,Horror,Mystery' 'Adventure,Comedy,Family' 'Action,Crime,Mystery'\n",
            " 'Comedy,Drama,Family' 'Action,Crime,Sport' 'Mystery,Sci-Fi,Thriller'\n",
            " 'Sci-Fi,Thriller' 'Adventure,Drama,Horror' 'Biography,History,Thriller'\n",
            " 'Adventure,Comedy,Sci-Fi' 'Fantasy,Horror' 'Action,Fantasy,Thriller'\n",
            " 'Comedy,Romance,Sport' 'Animation,Action,Comedy' 'Drama,Fantasy,Thriller'\n",
            " 'Action,Comedy,Romance' 'Action,Fantasy,Horror' 'Mystery,Romance,Sci-Fi'\n",
            " 'Comedy,Drama,Thriller' 'Comedy,Western' 'Drama,History,War'\n",
            " 'Fantasy,Horror,Thriller' 'Drama,Horror,Musical' 'Drama,Family'\n",
            " 'Romance,Sci-Fi,Thriller' 'Animation,Fantasy' 'Drama,Mystery,War'\n",
            " 'Action,Drama,Family' 'Adventure,Drama,Western' 'Drama,Music,Romance'\n",
            " 'Comedy,Romance,Western' 'Adventure,Drama' 'Drama,Thriller,War'\n",
            " 'Drama,Fantasy,Mystery' 'Comedy,Crime,Thriller' 'Animation,Comedy,Drama'\n",
            " 'Action,Comedy,Sci-Fi' 'Drama,Romance,War' 'Adventure,Fantasy,Mystery'\n",
            " 'Mystery,Romance,Thriller' 'Biography,Drama,Mystery'\n",
            " 'Animation,Drama,Romance' 'Comedy,Horror,Romance' 'Action,Thriller,War'\n",
            " 'Action,Comedy,Horror' 'Action,Crime,Sci-Fi' 'Crime,Thriller'\n",
            " 'Comedy,Horror,Sci-Fi' 'Crime,Drama,Fantasy' 'Drama,Fantasy,Music'\n",
            " 'Action,Comedy,Sport' 'Fantasy,Mystery,Thriller' 'Adventure'\n",
            " 'Adventure,Biography' 'Adventure,Biography,Crime' 'Comedy,Drama,Musical'\n",
            " 'Comedy,Family,Romance' 'Biography,Drama,Family' 'Drama,Fantasy,Musical'\n",
            " 'Adventure,Family' 'Adventure,Comedy,Fantasy' 'Drama,Family,Music'\n",
            " 'Comedy,Family,Fantasy']\n"
          ]
        }
      ]
    },
    {
      "cell_type": "code",
      "source": [
        "data['Genre_Count'] = data['Genre'].apply(lambda x: len(x.split(',')))\n",
        "\n",
        "print(data[['Title', 'Genre', 'Genre_Count']])"
      ],
      "metadata": {
        "colab": {
          "base_uri": "https://localhost:8080/"
        },
        "id": "YMWdXApc6cXW",
        "outputId": "632a53dd-6948-4573-bdd9-82ad81dd6d62"
      },
      "execution_count": null,
      "outputs": [
        {
          "output_type": "stream",
          "name": "stdout",
          "text": [
            "                       Title                     Genre  Genre_Count\n",
            "0    Guardians of the Galaxy   Action,Adventure,Sci-Fi            3\n",
            "1                 Prometheus  Adventure,Mystery,Sci-Fi            3\n",
            "2                      Split           Horror,Thriller            2\n",
            "3                       Sing   Animation,Comedy,Family            3\n",
            "4              Suicide Squad  Action,Adventure,Fantasy            3\n",
            "..                       ...                       ...          ...\n",
            "995     Secret in Their Eyes       Crime,Drama,Mystery            3\n",
            "996          Hostel: Part II                    Horror            1\n",
            "997   Step Up 2: The Streets       Drama,Music,Romance            3\n",
            "998             Search Party          Adventure,Comedy            2\n",
            "999               Nine Lives     Comedy,Family,Fantasy            3\n",
            "\n",
            "[1000 rows x 3 columns]\n"
          ]
        }
      ]
    },
    {
      "cell_type": "code",
      "source": [
        "# Fill missing values with mean of each column\n",
        "data['Revenue(Millions)'].fillna(data['Revenue(Millions)'].mean(), inplace=True)\n",
        "data['Metascore'].fillna(data['Metascore'].mean(), inplace=True)"
      ],
      "metadata": {
        "colab": {
          "base_uri": "https://localhost:8080/"
        },
        "id": "6OQZuAtF85LW",
        "outputId": "0b0ff538-d539-423c-fbd8-434cf961f704"
      },
      "execution_count": null,
      "outputs": [
        {
          "output_type": "stream",
          "name": "stderr",
          "text": [
            "/tmp/ipython-input-4193286295.py:2: FutureWarning: A value is trying to be set on a copy of a DataFrame or Series through chained assignment using an inplace method.\n",
            "The behavior will change in pandas 3.0. This inplace method will never work because the intermediate object on which we are setting values always behaves as a copy.\n",
            "\n",
            "For example, when doing 'df[col].method(value, inplace=True)', try using 'df.method({col: value}, inplace=True)' or df[col] = df[col].method(value) instead, to perform the operation inplace on the original object.\n",
            "\n",
            "\n",
            "  data['Revenue(Millions)'].fillna(data['Revenue(Millions)'].mean(), inplace=True)\n",
            "/tmp/ipython-input-4193286295.py:3: FutureWarning: A value is trying to be set on a copy of a DataFrame or Series through chained assignment using an inplace method.\n",
            "The behavior will change in pandas 3.0. This inplace method will never work because the intermediate object on which we are setting values always behaves as a copy.\n",
            "\n",
            "For example, when doing 'df[col].method(value, inplace=True)', try using 'df.method({col: value}, inplace=True)' or df[col] = df[col].method(value) instead, to perform the operation inplace on the original object.\n",
            "\n",
            "\n",
            "  data['Metascore'].fillna(data['Metascore'].mean(), inplace=True)\n"
          ]
        }
      ]
    },
    {
      "cell_type": "code",
      "source": [
        "top = data[['Title','Rating']].sort_values(by=\"Rating\", ascending=False).head(5)\n",
        "print(top)"
      ],
      "metadata": {
        "colab": {
          "base_uri": "https://localhost:8080/"
        },
        "id": "MYy1TIg990eY",
        "outputId": "f3c8a4e3-4f34-407f-c36f-6087f51e15d1"
      },
      "execution_count": null,
      "outputs": [
        {
          "output_type": "stream",
          "name": "stdout",
          "text": [
            "                Title  Rating\n",
            "54    The Dark Knight     9.0\n",
            "80          Inception     8.8\n",
            "117            Dangal     8.8\n",
            "36       Interstellar     8.6\n",
            "249  The Intouchables     8.6\n"
          ]
        }
      ]
    },
    {
      "cell_type": "code",
      "source": [
        "highest_revenue = data.loc[data['Revenue(Millions)'].idxmax()]\n",
        "lowest_revenue = data.loc[data['Revenue(Millions)'].idxmin()]\n",
        "\n",
        "print(\"Highest Revenue Movie:\\n\", highest_revenue)\n",
        "print(\"\\nLowest Revenue Movie:\\n\", lowest_revenue)\n"
      ],
      "metadata": {
        "colab": {
          "base_uri": "https://localhost:8080/"
        },
        "id": "qU-V4KLa_Kqs",
        "outputId": "576a6a07-002a-4a8b-846b-33a8c2b7e894"
      },
      "execution_count": null,
      "outputs": [
        {
          "output_type": "stream",
          "name": "stdout",
          "text": [
            "Highest Revenue Movie:\n",
            " Rank                                                                51\n",
            "Title                       Star Wars: Episode VII - The Force Awakens\n",
            "Genre                                         Action,Adventure,Fantasy\n",
            "Description          Three decades after the defeat of the Galactic...\n",
            "Director                                                   J.J. Abrams\n",
            "Actors               Daisy Ridley, John Boyega, Oscar Isaac, Domhna...\n",
            "Year                                                              2015\n",
            "Runtime (Minutes)                                                  136\n",
            "Rating                                                             8.1\n",
            "Votes                                                           661608\n",
            "Revenue(Millions)                                               936.63\n",
            "Metascore                                                         81.0\n",
            "Genre_Count                                                          3\n",
            "Name: 50, dtype: object\n",
            "\n",
            "Lowest Revenue Movie:\n",
            " Rank                                                               232\n",
            "Title                                                 A Kind of Murder\n",
            "Genre                                             Crime,Drama,Thriller\n",
            "Description          In 1960s New York, Walter Stackhouse is a succ...\n",
            "Director                                                  Andy Goddard\n",
            "Actors               Patrick Wilson, Jessica Biel, Haley Bennett, V...\n",
            "Year                                                              2016\n",
            "Runtime (Minutes)                                                   95\n",
            "Rating                                                             5.2\n",
            "Votes                                                             3305\n",
            "Revenue(Millions)                                                  0.0\n",
            "Metascore                                                         50.0\n",
            "Genre_Count                                                          3\n",
            "Name: 231, dtype: object\n"
          ]
        }
      ]
    },
    {
      "cell_type": "code",
      "source": [
        "print(data.groupby('Director')['Rating'].mean())"
      ],
      "metadata": {
        "colab": {
          "base_uri": "https://localhost:8080/"
        },
        "id": "7BonWNi4CVDW",
        "outputId": "2186a727-3f66-44b9-ea13-ab93b8d95908"
      },
      "execution_count": null,
      "outputs": [
        {
          "output_type": "stream",
          "name": "stdout",
          "text": [
            "Director\n",
            "Aamir Khan             8.50\n",
            "Abdellatif Kechiche    7.80\n",
            "Adam Leon              6.50\n",
            "Adam McKay             7.00\n",
            "Adam Shankman          6.30\n",
            "                       ... \n",
            "Xavier Dolan           7.55\n",
            "Yimou Zhang            6.10\n",
            "Yorgos Lanthimos       7.20\n",
            "Zack Snyder            7.04\n",
            "Zackary Adler          5.10\n",
            "Name: Rating, Length: 644, dtype: float64\n"
          ]
        }
      ]
    },
    {
      "cell_type": "code",
      "source": [
        "print(data['Year'].value_counts())"
      ],
      "metadata": {
        "colab": {
          "base_uri": "https://localhost:8080/"
        },
        "id": "2CDV2rCoEhe8",
        "outputId": "6fee4845-b3b8-4fec-eb20-00229e0efcf8"
      },
      "execution_count": null,
      "outputs": [
        {
          "output_type": "stream",
          "name": "stdout",
          "text": [
            "Year\n",
            "2016    297\n",
            "2015    127\n",
            "2014     98\n",
            "2013     91\n",
            "2012     64\n",
            "2011     63\n",
            "2010     60\n",
            "2007     53\n",
            "2008     52\n",
            "2009     51\n",
            "2006     44\n",
            "Name: count, dtype: int64\n"
          ]
        }
      ]
    },
    {
      "cell_type": "code",
      "source": [
        "print(data[(data['Rating'] > 8) & (data['Revenue(Millions)'] > 100)])"
      ],
      "metadata": {
        "colab": {
          "base_uri": "https://localhost:8080/"
        },
        "id": "kx233lwPEw8Z",
        "outputId": "82d54371-f984-4bc9-b666-21827d2de2f4"
      },
      "execution_count": null,
      "outputs": [
        {
          "output_type": "stream",
          "name": "stdout",
          "text": [
            "     Rank                                         Title  \\\n",
            "0       1                       Guardians of the Galaxy   \n",
            "6       7                                    La La Land   \n",
            "36     37                                  Interstellar   \n",
            "50     51    Star Wars: Episode VII - The Force Awakens   \n",
            "54     55                               The Dark Knight   \n",
            "67     68                            Mad Max: Fury Road   \n",
            "74     75                                      Zootopia   \n",
            "76     77                                  The Avengers   \n",
            "77     78                          Inglourious Basterds   \n",
            "80     81                                     Inception   \n",
            "82     83                       The Wolf of Wall Street   \n",
            "83     84                                     Gone Girl   \n",
            "92     93                                      The Help   \n",
            "99    100                                  The Departed   \n",
            "114   115  Harry Potter and the Deathly Hallows: Part 2   \n",
            "124   125                         The Dark Knight Rises   \n",
            "138   139                                Shutter Island   \n",
            "144   145                              Django Unchained   \n",
            "241   242                                    Inside Out   \n",
            "427   428                          The Bourne Ultimatum   \n",
            "499   500                                            Up   \n",
            "634   635                                        WALL·E   \n",
            "645   646                                   Gran Torino   \n",
            "688   689                                   Toy Story 3   \n",
            "772   773                      How to Train Your Dragon   \n",
            "\n",
            "                          Genre  \\\n",
            "0       Action,Adventure,Sci-Fi   \n",
            "6            Comedy,Drama,Music   \n",
            "36       Adventure,Drama,Sci-Fi   \n",
            "50     Action,Adventure,Fantasy   \n",
            "54           Action,Crime,Drama   \n",
            "67      Action,Adventure,Sci-Fi   \n",
            "74   Animation,Adventure,Comedy   \n",
            "76                Action,Sci-Fi   \n",
            "77          Adventure,Drama,War   \n",
            "80      Action,Adventure,Sci-Fi   \n",
            "82       Biography,Comedy,Crime   \n",
            "83          Crime,Drama,Mystery   \n",
            "92                        Drama   \n",
            "99         Crime,Drama,Thriller   \n",
            "114     Adventure,Drama,Fantasy   \n",
            "124             Action,Thriller   \n",
            "138            Mystery,Thriller   \n",
            "144               Drama,Western   \n",
            "241  Animation,Adventure,Comedy   \n",
            "427     Action,Mystery,Thriller   \n",
            "499  Animation,Adventure,Comedy   \n",
            "634  Animation,Adventure,Family   \n",
            "645                       Drama   \n",
            "688  Animation,Adventure,Comedy   \n",
            "772  Animation,Action,Adventure   \n",
            "\n",
            "                                           Description           Director  \\\n",
            "0    A group of intergalactic criminals are forced ...         James Gunn   \n",
            "6    A jazz pianist falls for an aspiring actress i...    Damien Chazelle   \n",
            "36   A team of explorers travel through a wormhole ...  Christopher Nolan   \n",
            "50   Three decades after the defeat of the Galactic...        J.J. Abrams   \n",
            "54   When the menace known as the Joker wreaks havo...  Christopher Nolan   \n",
            "67   A woman rebels against a tyrannical ruler in p...      George Miller   \n",
            "74   In a city of anthropomorphic animals, a rookie...       Byron Howard   \n",
            "76   Earth's mightiest heroes must come together an...        Joss Whedon   \n",
            "77   In Nazi-occupied France during World War II, a...  Quentin Tarantino   \n",
            "80   A thief, who steals corporate secrets through ...  Christopher Nolan   \n",
            "82   Based on the true story of Jordan Belfort, fro...    Martin Scorsese   \n",
            "83   With his wife's disappearance having become th...      David Fincher   \n",
            "92   An aspiring author during the civil rights mov...        Tate Taylor   \n",
            "99   An undercover cop and a mole in the police att...    Martin Scorsese   \n",
            "114  Harry, Ron and Hermione search for Voldemort's...        David Yates   \n",
            "124  Eight years after the Joker's reign of anarchy...  Christopher Nolan   \n",
            "138  In 1954, a U.S. marshal investigates the disap...    Martin Scorsese   \n",
            "144  With the help of a German bounty hunter , a fr...  Quentin Tarantino   \n",
            "241  After young Riley is uprooted from her Midwest...        Pete Docter   \n",
            "427  Jason Bourne dodges a ruthless CIA official an...    Paul Greengrass   \n",
            "499  Seventy-eight year old Carl Fredricksen travel...        Pete Docter   \n",
            "634  In the distant future, a small waste-collectin...     Andrew Stanton   \n",
            "645  Disgruntled Korean War veteran Walt Kowalski s...     Clint Eastwood   \n",
            "688  The toys are mistakenly delivered to a day-car...        Lee Unkrich   \n",
            "772  A hapless young Viking who aspires to hunt dra...       Dean DeBlois   \n",
            "\n",
            "                                                Actors  Year  \\\n",
            "0    Chris Pratt, Vin Diesel, Bradley Cooper, Zoe S...  2014   \n",
            "6    Ryan Gosling, Emma Stone, Rosemarie DeWitt, J....  2016   \n",
            "36   Matthew McConaughey, Anne Hathaway, Jessica Ch...  2014   \n",
            "50   Daisy Ridley, John Boyega, Oscar Isaac, Domhna...  2015   \n",
            "54   Christian Bale, Heath Ledger, Aaron Eckhart,Mi...  2008   \n",
            "67   Tom Hardy, Charlize Theron, Nicholas Hoult, Zo...  2015   \n",
            "74   Ginnifer Goodwin, Jason Bateman, Idris Elba, J...  2016   \n",
            "76   Robert Downey Jr., Chris Evans, Scarlett Johan...  2012   \n",
            "77   Brad Pitt, Diane Kruger, Eli Roth,Mélanie Laurent  2009   \n",
            "80   Leonardo DiCaprio, Joseph Gordon-Levitt, Ellen...  2010   \n",
            "82   Leonardo DiCaprio, Jonah Hill, Margot Robbie,M...  2013   \n",
            "83   Ben Affleck, Rosamund Pike, Neil Patrick Harri...  2014   \n",
            "92   Emma Stone, Viola Davis, Octavia Spencer, Bryc...  2011   \n",
            "99   Leonardo DiCaprio, Matt Damon, Jack Nicholson,...  2006   \n",
            "114  Daniel Radcliffe, Emma Watson, Rupert Grint, M...  2011   \n",
            "124  Christian Bale, Tom Hardy, Anne Hathaway,Gary ...  2012   \n",
            "138  Leonardo DiCaprio, Emily Mortimer, Mark Ruffal...  2010   \n",
            "144  Jamie Foxx, Christoph Waltz, Leonardo DiCaprio...  2012   \n",
            "241  Amy Poehler, Bill Hader, Lewis Black, Mindy Ka...  2015   \n",
            "427  Matt Damon, Edgar Ramírez, Joan Allen, Julia S...  2007   \n",
            "499  Edward Asner, Jordan Nagai, John Ratzenberger,...  2009   \n",
            "634  Ben Burtt, Elissa Knight, Jeff Garlin, Fred Wi...  2008   \n",
            "645  Clint Eastwood, Bee Vang, Christopher Carley,A...  2008   \n",
            "688      Tom Hanks, Tim Allen, Joan Cusack, Ned Beatty  2010   \n",
            "772  Jay Baruchel, Gerard Butler,Christopher Mintz-...  2010   \n",
            "\n",
            "     Runtime (Minutes)  Rating    Votes  Revenue(Millions)  Metascore  \\\n",
            "0                  121     8.1   757074             333.13  76.000000   \n",
            "6                  128     8.3   258682             151.06  93.000000   \n",
            "36                 169     8.6  1047747             187.99  74.000000   \n",
            "50                 136     8.1   661608             936.63  81.000000   \n",
            "54                 152     9.0  1791916             533.32  82.000000   \n",
            "67                 120     8.1   632842             153.63  90.000000   \n",
            "74                 108     8.1   296853             341.26  78.000000   \n",
            "76                 143     8.1  1045588             623.28  69.000000   \n",
            "77                 153     8.3   959065             120.52  69.000000   \n",
            "80                 148     8.8  1583625             292.57  74.000000   \n",
            "82                 180     8.2   865134             116.87  75.000000   \n",
            "83                 149     8.1   636243             167.74  79.000000   \n",
            "92                 146     8.1   342429             169.71  62.000000   \n",
            "99                 151     8.5   937414             132.37  85.000000   \n",
            "114                130     8.1   590595             380.96  87.000000   \n",
            "124                164     8.5  1222645             448.13  78.000000   \n",
            "138                138     8.1   855604             127.97  63.000000   \n",
            "144                165     8.4  1039115             162.80  81.000000   \n",
            "241                 95     8.2   416689             356.45  94.000000   \n",
            "427                115     8.1   525700             227.14  85.000000   \n",
            "499                 96     8.3   722203             292.98  88.000000   \n",
            "634                 98     8.4   776897             223.81  58.985043   \n",
            "645                116     8.2   595779             148.09  58.985043   \n",
            "688                103     8.3   586669             414.98  92.000000   \n",
            "772                 98     8.1   523893             217.39  74.000000   \n",
            "\n",
            "     Genre_Count  \n",
            "0              3  \n",
            "6              3  \n",
            "36             3  \n",
            "50             3  \n",
            "54             3  \n",
            "67             3  \n",
            "74             3  \n",
            "76             2  \n",
            "77             3  \n",
            "80             3  \n",
            "82             3  \n",
            "83             3  \n",
            "92             1  \n",
            "99             3  \n",
            "114            3  \n",
            "124            2  \n",
            "138            2  \n",
            "144            2  \n",
            "241            3  \n",
            "427            3  \n",
            "499            3  \n",
            "634            3  \n",
            "645            1  \n",
            "688            3  \n",
            "772            3  \n"
          ]
        }
      ]
    },
    {
      "cell_type": "code",
      "source": [
        "print(data.groupby('Director')[['Rating', 'Revenue(Millions)']].mean())"
      ],
      "metadata": {
        "colab": {
          "base_uri": "https://localhost:8080/"
        },
        "id": "39T_htlDGc9n",
        "outputId": "657b9605-6f35-4e3b-8555-9d32fe352ffd"
      },
      "execution_count": null,
      "outputs": [
        {
          "output_type": "stream",
          "name": "stdout",
          "text": [
            "                     Rating  Revenue(Millions)\n",
            "Director                                      \n",
            "Aamir Khan             8.50           1.200000\n",
            "Abdellatif Kechiche    7.80           2.200000\n",
            "Adam Leon              6.50          82.956376\n",
            "Adam McKay             7.00         109.535000\n",
            "Adam Shankman          6.30          78.665000\n",
            "...                     ...                ...\n",
            "Xavier Dolan           7.55          43.223188\n",
            "Yimou Zhang            6.10          45.130000\n",
            "Yorgos Lanthimos       7.20           4.405000\n",
            "Zack Snyder            7.04         195.148000\n",
            "Zackary Adler          5.10           6.530000\n",
            "\n",
            "[644 rows x 2 columns]\n"
          ]
        }
      ]
    },
    {
      "cell_type": "code",
      "source": [
        "print(data.groupby('Year').agg({'Title': 'count', 'Rating': 'mean'}).rename(columns={'Title': 'Movie_Count'}))\n"
      ],
      "metadata": {
        "colab": {
          "base_uri": "https://localhost:8080/"
        },
        "id": "rTEXduUYGmIJ",
        "outputId": "1b735881-27c6-4313-cf48-03ee9d51e6b2"
      },
      "execution_count": null,
      "outputs": [
        {
          "output_type": "stream",
          "name": "stdout",
          "text": [
            "      Movie_Count    Rating\n",
            "Year                       \n",
            "2006           44  7.125000\n",
            "2007           53  7.133962\n",
            "2008           52  6.784615\n",
            "2009           51  6.960784\n",
            "2010           60  6.826667\n",
            "2011           63  6.838095\n",
            "2012           64  6.925000\n",
            "2013           91  6.812088\n",
            "2014           98  6.837755\n",
            "2015          127  6.602362\n",
            "2016          297  6.436700\n"
          ]
        }
      ]
    },
    {
      "cell_type": "code",
      "source": [
        "data['Profitability'] = data['Revenue(Millions)'] / data['Runtime']\n",
        "print(data[['Title', 'Profitability']].sort_values(by='Profitability', ascending=False).head(10))\n"
      ],
      "metadata": {
        "colab": {
          "base_uri": "https://localhost:8080/",
          "height": 547
        },
        "id": "GB9nWBs4Gpd3",
        "outputId": "1dfec839-a693-4280-b313-0a149d7a2a13"
      },
      "execution_count": null,
      "outputs": [
        {
          "output_type": "error",
          "ename": "KeyError",
          "evalue": "'Runtime'",
          "traceback": [
            "\u001b[0;31m---------------------------------------------------------------------------\u001b[0m",
            "\u001b[0;31mKeyError\u001b[0m                                  Traceback (most recent call last)",
            "\u001b[0;32m/usr/local/lib/python3.12/dist-packages/pandas/core/indexes/base.py\u001b[0m in \u001b[0;36mget_loc\u001b[0;34m(self, key)\u001b[0m\n\u001b[1;32m   3804\u001b[0m         \u001b[0;32mtry\u001b[0m\u001b[0;34m:\u001b[0m\u001b[0;34m\u001b[0m\u001b[0;34m\u001b[0m\u001b[0m\n\u001b[0;32m-> 3805\u001b[0;31m             \u001b[0;32mreturn\u001b[0m \u001b[0mself\u001b[0m\u001b[0;34m.\u001b[0m\u001b[0m_engine\u001b[0m\u001b[0;34m.\u001b[0m\u001b[0mget_loc\u001b[0m\u001b[0;34m(\u001b[0m\u001b[0mcasted_key\u001b[0m\u001b[0;34m)\u001b[0m\u001b[0;34m\u001b[0m\u001b[0;34m\u001b[0m\u001b[0m\n\u001b[0m\u001b[1;32m   3806\u001b[0m         \u001b[0;32mexcept\u001b[0m \u001b[0mKeyError\u001b[0m \u001b[0;32mas\u001b[0m \u001b[0merr\u001b[0m\u001b[0;34m:\u001b[0m\u001b[0;34m\u001b[0m\u001b[0;34m\u001b[0m\u001b[0m\n",
            "\u001b[0;32mindex.pyx\u001b[0m in \u001b[0;36mpandas._libs.index.IndexEngine.get_loc\u001b[0;34m()\u001b[0m\n",
            "\u001b[0;32mindex.pyx\u001b[0m in \u001b[0;36mpandas._libs.index.IndexEngine.get_loc\u001b[0;34m()\u001b[0m\n",
            "\u001b[0;32mpandas/_libs/hashtable_class_helper.pxi\u001b[0m in \u001b[0;36mpandas._libs.hashtable.PyObjectHashTable.get_item\u001b[0;34m()\u001b[0m\n",
            "\u001b[0;32mpandas/_libs/hashtable_class_helper.pxi\u001b[0m in \u001b[0;36mpandas._libs.hashtable.PyObjectHashTable.get_item\u001b[0;34m()\u001b[0m\n",
            "\u001b[0;31mKeyError\u001b[0m: 'Runtime'",
            "\nThe above exception was the direct cause of the following exception:\n",
            "\u001b[0;31mKeyError\u001b[0m                                  Traceback (most recent call last)",
            "\u001b[0;32m/tmp/ipython-input-497942511.py\u001b[0m in \u001b[0;36m<cell line: 0>\u001b[0;34m()\u001b[0m\n\u001b[0;32m----> 1\u001b[0;31m \u001b[0mdata\u001b[0m\u001b[0;34m[\u001b[0m\u001b[0;34m'Profitability'\u001b[0m\u001b[0;34m]\u001b[0m \u001b[0;34m=\u001b[0m \u001b[0mdata\u001b[0m\u001b[0;34m[\u001b[0m\u001b[0;34m'Revenue(Millions)'\u001b[0m\u001b[0;34m]\u001b[0m \u001b[0;34m/\u001b[0m \u001b[0mdata\u001b[0m\u001b[0;34m[\u001b[0m\u001b[0;34m'Runtime'\u001b[0m\u001b[0;34m]\u001b[0m\u001b[0;34m\u001b[0m\u001b[0;34m\u001b[0m\u001b[0m\n\u001b[0m\u001b[1;32m      2\u001b[0m \u001b[0mprint\u001b[0m\u001b[0;34m(\u001b[0m\u001b[0mdata\u001b[0m\u001b[0;34m[\u001b[0m\u001b[0;34m[\u001b[0m\u001b[0;34m'Title'\u001b[0m\u001b[0;34m,\u001b[0m \u001b[0;34m'Profitability'\u001b[0m\u001b[0;34m]\u001b[0m\u001b[0;34m]\u001b[0m\u001b[0;34m.\u001b[0m\u001b[0msort_values\u001b[0m\u001b[0;34m(\u001b[0m\u001b[0mby\u001b[0m\u001b[0;34m=\u001b[0m\u001b[0;34m'Profitability'\u001b[0m\u001b[0;34m,\u001b[0m \u001b[0mascending\u001b[0m\u001b[0;34m=\u001b[0m\u001b[0;32mFalse\u001b[0m\u001b[0;34m)\u001b[0m\u001b[0;34m.\u001b[0m\u001b[0mhead\u001b[0m\u001b[0;34m(\u001b[0m\u001b[0;36m10\u001b[0m\u001b[0;34m)\u001b[0m\u001b[0;34m)\u001b[0m\u001b[0;34m\u001b[0m\u001b[0;34m\u001b[0m\u001b[0m\n",
            "\u001b[0;32m/usr/local/lib/python3.12/dist-packages/pandas/core/frame.py\u001b[0m in \u001b[0;36m__getitem__\u001b[0;34m(self, key)\u001b[0m\n\u001b[1;32m   4100\u001b[0m             \u001b[0;32mif\u001b[0m \u001b[0mself\u001b[0m\u001b[0;34m.\u001b[0m\u001b[0mcolumns\u001b[0m\u001b[0;34m.\u001b[0m\u001b[0mnlevels\u001b[0m \u001b[0;34m>\u001b[0m \u001b[0;36m1\u001b[0m\u001b[0;34m:\u001b[0m\u001b[0;34m\u001b[0m\u001b[0;34m\u001b[0m\u001b[0m\n\u001b[1;32m   4101\u001b[0m                 \u001b[0;32mreturn\u001b[0m \u001b[0mself\u001b[0m\u001b[0;34m.\u001b[0m\u001b[0m_getitem_multilevel\u001b[0m\u001b[0;34m(\u001b[0m\u001b[0mkey\u001b[0m\u001b[0;34m)\u001b[0m\u001b[0;34m\u001b[0m\u001b[0;34m\u001b[0m\u001b[0m\n\u001b[0;32m-> 4102\u001b[0;31m             \u001b[0mindexer\u001b[0m \u001b[0;34m=\u001b[0m \u001b[0mself\u001b[0m\u001b[0;34m.\u001b[0m\u001b[0mcolumns\u001b[0m\u001b[0;34m.\u001b[0m\u001b[0mget_loc\u001b[0m\u001b[0;34m(\u001b[0m\u001b[0mkey\u001b[0m\u001b[0;34m)\u001b[0m\u001b[0;34m\u001b[0m\u001b[0;34m\u001b[0m\u001b[0m\n\u001b[0m\u001b[1;32m   4103\u001b[0m             \u001b[0;32mif\u001b[0m \u001b[0mis_integer\u001b[0m\u001b[0;34m(\u001b[0m\u001b[0mindexer\u001b[0m\u001b[0;34m)\u001b[0m\u001b[0;34m:\u001b[0m\u001b[0;34m\u001b[0m\u001b[0;34m\u001b[0m\u001b[0m\n\u001b[1;32m   4104\u001b[0m                 \u001b[0mindexer\u001b[0m \u001b[0;34m=\u001b[0m \u001b[0;34m[\u001b[0m\u001b[0mindexer\u001b[0m\u001b[0;34m]\u001b[0m\u001b[0;34m\u001b[0m\u001b[0;34m\u001b[0m\u001b[0m\n",
            "\u001b[0;32m/usr/local/lib/python3.12/dist-packages/pandas/core/indexes/base.py\u001b[0m in \u001b[0;36mget_loc\u001b[0;34m(self, key)\u001b[0m\n\u001b[1;32m   3810\u001b[0m             ):\n\u001b[1;32m   3811\u001b[0m                 \u001b[0;32mraise\u001b[0m \u001b[0mInvalidIndexError\u001b[0m\u001b[0;34m(\u001b[0m\u001b[0mkey\u001b[0m\u001b[0;34m)\u001b[0m\u001b[0;34m\u001b[0m\u001b[0;34m\u001b[0m\u001b[0m\n\u001b[0;32m-> 3812\u001b[0;31m             \u001b[0;32mraise\u001b[0m \u001b[0mKeyError\u001b[0m\u001b[0;34m(\u001b[0m\u001b[0mkey\u001b[0m\u001b[0;34m)\u001b[0m \u001b[0;32mfrom\u001b[0m \u001b[0merr\u001b[0m\u001b[0;34m\u001b[0m\u001b[0;34m\u001b[0m\u001b[0m\n\u001b[0m\u001b[1;32m   3813\u001b[0m         \u001b[0;32mexcept\u001b[0m \u001b[0mTypeError\u001b[0m\u001b[0;34m:\u001b[0m\u001b[0;34m\u001b[0m\u001b[0;34m\u001b[0m\u001b[0m\n\u001b[1;32m   3814\u001b[0m             \u001b[0;31m# If we have a listlike key, _check_indexing_error will raise\u001b[0m\u001b[0;34m\u001b[0m\u001b[0;34m\u001b[0m\u001b[0m\n",
            "\u001b[0;31mKeyError\u001b[0m: 'Runtime'"
          ]
        }
      ]
    },
    {
      "cell_type": "code",
      "source": [
        "def categorize_rating(rating):\n",
        "    if rating < 6:\n",
        "        return 'Poor'\n",
        "    elif 6 <= rating < 7.5:\n",
        "        return 'Average'\n",
        "    else:\n",
        "        return 'Excellent'\n",
        "\n",
        "data['Rating_Category'] = data['Rating'].apply(categorize_rating)\n",
        "print(data[['Title', 'Rating', 'Rating_Category']])\n"
      ],
      "metadata": {
        "id": "ZzfFz4j5HujJ"
      },
      "execution_count": null,
      "outputs": []
    },
    {
      "cell_type": "code",
      "source": [
        "def high_score(row):\n",
        "    return row['Rating'] * 10 + row['Revenue(Millions)']\n",
        "\n",
        "data['High_Score'] = data.apply(high_score, axis=1)\n",
        "\n",
        "print(data[['Title', 'High_Score']])\n"
      ],
      "metadata": {
        "colab": {
          "base_uri": "https://localhost:8080/"
        },
        "id": "iLyKHT4QHwJU",
        "outputId": "eeb1bee7-a06e-4178-ba3a-e7bd3bcc2b92"
      },
      "execution_count": null,
      "outputs": [
        {
          "output_type": "stream",
          "name": "stdout",
          "text": [
            "                       Title  High_Score\n",
            "0    Guardians of the Galaxy  414.130000\n",
            "1                 Prometheus  196.460000\n",
            "2                      Split  211.120000\n",
            "3                       Sing  342.320000\n",
            "4              Suicide Squad  387.020000\n",
            "..                       ...         ...\n",
            "995     Secret in Their Eyes  144.956376\n",
            "996          Hostel: Part II   72.540000\n",
            "997   Step Up 2: The Streets  120.010000\n",
            "998             Search Party  138.956376\n",
            "999               Nine Lives   72.640000\n",
            "\n",
            "[1000 rows x 2 columns]\n"
          ]
        }
      ]
    },
    {
      "cell_type": "code",
      "source": [
        "def categorize_rating(rating):\n",
        "    if rating < 6:\n",
        "        return 'Poor'\n",
        "    elif 6 <= rating < 7.5:\n",
        "        return 'Average'\n",
        "    else:\n",
        "        return 'Excellent'\n",
        "\n",
        "data['Rating_Category'] = data['Rating'].apply(categorize_rating)\n",
        "print(data[['Title', 'Rating', 'Rating_Category']])"
      ],
      "metadata": {
        "colab": {
          "base_uri": "https://localhost:8080/"
        },
        "id": "OTwH2OZXIe-n",
        "outputId": "7f8fb8bc-7bea-4f20-f4ba-bdbb973b26e9"
      },
      "execution_count": null,
      "outputs": [
        {
          "output_type": "stream",
          "name": "stdout",
          "text": [
            "                       Title  Rating Rating_Category\n",
            "0    Guardians of the Galaxy     8.1       Excellent\n",
            "1                 Prometheus     7.0         Average\n",
            "2                      Split     7.3         Average\n",
            "3                       Sing     7.2         Average\n",
            "4              Suicide Squad     6.2         Average\n",
            "..                       ...     ...             ...\n",
            "995     Secret in Their Eyes     6.2         Average\n",
            "996          Hostel: Part II     5.5            Poor\n",
            "997   Step Up 2: The Streets     6.2         Average\n",
            "998             Search Party     5.6            Poor\n",
            "999               Nine Lives     5.3            Poor\n",
            "\n",
            "[1000 rows x 3 columns]\n"
          ]
        }
      ]
    },
    {
      "cell_type": "code",
      "source": [
        "def high_score(row):\n",
        "    return row['Rating'] * 10 + row['Revenue(Millions)']\n",
        "\n",
        "data['High_Score'] = data.apply(high_score, axis=1)\n",
        "\n",
        "print(data[['Title', 'High_Score']])\n"
      ],
      "metadata": {
        "colab": {
          "base_uri": "https://localhost:8080/"
        },
        "id": "BQE5datFJB46",
        "outputId": "112a879b-a757-46ea-f303-71c9ba01789a"
      },
      "execution_count": null,
      "outputs": [
        {
          "output_type": "stream",
          "name": "stdout",
          "text": [
            "                       Title  High_Score\n",
            "0    Guardians of the Galaxy  414.130000\n",
            "1                 Prometheus  196.460000\n",
            "2                      Split  211.120000\n",
            "3                       Sing  342.320000\n",
            "4              Suicide Squad  387.020000\n",
            "..                       ...         ...\n",
            "995     Secret in Their Eyes  144.956376\n",
            "996          Hostel: Part II   72.540000\n",
            "997   Step Up 2: The Streets  120.010000\n",
            "998             Search Party  138.956376\n",
            "999               Nine Lives   72.640000\n",
            "\n",
            "[1000 rows x 2 columns]\n"
          ]
        }
      ]
    }
  ]
}