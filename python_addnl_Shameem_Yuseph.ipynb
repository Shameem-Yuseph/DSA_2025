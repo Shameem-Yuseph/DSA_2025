{
  "nbformat": 4,
  "nbformat_minor": 0,
  "metadata": {
    "colab": {
      "provenance": [],
      "authorship_tag": "ABX9TyPyM9ysUzvATehU2r9q6JGF",
      "include_colab_link": true
    },
    "kernelspec": {
      "name": "python3",
      "display_name": "Python 3"
    },
    "language_info": {
      "name": "python"
    }
  },
  "cells": [
    {
      "cell_type": "markdown",
      "metadata": {
        "id": "view-in-github",
        "colab_type": "text"
      },
      "source": [
        "<a href=\"https://colab.research.google.com/github/Shameem-Yuseph/DSA_2025/blob/main/python_addnl_Shameem_Yuseph.ipynb\" target=\"_parent\"><img src=\"https://colab.research.google.com/assets/colab-badge.svg\" alt=\"Open In Colab\"/></a>"
      ]
    },
    {
      "cell_type": "markdown",
      "source": [
        "1.Grocery store billing"
      ],
      "metadata": {
        "id": "_ReBjx4lf75R"
      }
    },
    {
      "cell_type": "code",
      "source": [
        "\n",
        "print(\"Grocery Store Billing System\")\n",
        "total = 0\n",
        "\n",
        "while True:\n",
        "    item = input(\"Enter item name (or 'done' to finish): \")\n",
        "    if item.lower() == \"done\":\n",
        "        break\n",
        "    price = float(input(f\"Enter price of {item}: ₹\"))\n",
        "    total += price\n",
        "\n",
        "print(f\"\\nTotal Bill: ₹{total:.2f}\")\n",
        "\n",
        "if total > 500:\n",
        "    discount = total * 0.10\n",
        "    total -= discount\n",
        "    print(f\"Discount Applied: ₹{discount:.2f}\")\n",
        "\n",
        "print(f\"Final Amount to Pay: ₹{total:.2f}\")"
      ],
      "metadata": {
        "colab": {
          "base_uri": "https://localhost:8080/"
        },
        "id": "ZXu92eyDgAs6",
        "outputId": "d0368629-3d00-4d16-9888-b7e5c5608eae"
      },
      "execution_count": null,
      "outputs": [
        {
          "output_type": "stream",
          "name": "stdout",
          "text": [
            "Grocery Store Billing System\n",
            "Enter item name (or 'done' to finish): Rice\n",
            "Enter price of Rice: ₹250\n",
            "Enter item name (or 'done' to finish): Chicken\n",
            "Enter price of Chicken: ₹780\n",
            "Enter item name (or 'done' to finish): done\n",
            "\n",
            "Total Bill: ₹1030.00\n",
            "Discount Applied: ₹103.00\n",
            "Final Amount to Pay: ₹927.00\n"
          ]
        }
      ]
    },
    {
      "cell_type": "markdown",
      "source": [
        "2.Exam result calculator"
      ],
      "metadata": {
        "id": "iFljIqxZgSpt"
      }
    },
    {
      "cell_type": "code",
      "source": [
        "print(\"Exam Result Calculator\")\n",
        "marks = []\n",
        "\n",
        "for i in range(5):\n",
        "    m = float(input(f\"Enter marks for subject {i+1}: \"))\n",
        "    marks.append(m)\n",
        "\n",
        "percentage = sum(marks) / 5\n",
        "print(f\"Percentage: {percentage:.2f}%\")\n",
        "\n",
        "if percentage >= 90:\n",
        "    grade = \"A\"\n",
        "elif percentage >= 75:\n",
        "    grade = \"B\"\n",
        "elif percentage >= 50:\n",
        "    grade = \"C\"\n",
        "else:\n",
        "    grade = \"Fail\"\n",
        "\n",
        "print(\"Grade:\", grade)"
      ],
      "metadata": {
        "colab": {
          "base_uri": "https://localhost:8080/"
        },
        "id": "CuvnKdUEgZTV",
        "outputId": "db3d0b38-fe4c-43a4-dee3-7df0b99f37fb"
      },
      "execution_count": null,
      "outputs": [
        {
          "output_type": "stream",
          "name": "stdout",
          "text": [
            "Exam Result Calculator\n",
            "Enter marks for subject 1: 40\n",
            "Enter marks for subject 2: 70\n",
            "Enter marks for subject 3: 89\n",
            "Enter marks for subject 4: 100\n",
            "Enter marks for subject 5: 17\n",
            "Percentage: 63.20%\n",
            "Grade: C\n"
          ]
        }
      ]
    },
    {
      "cell_type": "markdown",
      "source": [
        "3.ATM simulation"
      ],
      "metadata": {
        "id": "U0MRx2VGgjKK"
      }
    },
    {
      "cell_type": "code",
      "source": [
        "print(\"ATM Simulation\")\n",
        "balance = 1000\n",
        "\n",
        "while True:\n",
        "    print(\"\\n1. Deposit\\n2. Withdraw\\n3. Check Balance\\n4. Exit\")\n",
        "    choice = input(\"Enter choice: \")\n",
        "\n",
        "    if choice == \"1\":\n",
        "        amt = float(input(\"Enter amount to deposit: ₹\"))\n",
        "        balance += amt\n",
        "    elif choice == \"2\":\n",
        "        amt = float(input(\"Enter amount to withdraw: ₹\"))\n",
        "        if amt <= balance:\n",
        "            balance -= amt\n",
        "        else:\n",
        "            print(\"Insufficient Balance!\")\n",
        "    elif choice == \"3\":\n",
        "        print(f\"Current Balance: ₹{balance:.2f}\")\n",
        "    elif choice == \"4\":\n",
        "        print(\"Thank you for using ATM!\")\n",
        "        break\n",
        "    else:\n",
        "        print(\"Invalid choice!\")"
      ],
      "metadata": {
        "colab": {
          "base_uri": "https://localhost:8080/"
        },
        "id": "1oDT17vigoj5",
        "outputId": "f9873c42-9c01-4189-860e-57af62355d60"
      },
      "execution_count": null,
      "outputs": [
        {
          "output_type": "stream",
          "name": "stdout",
          "text": [
            "ATM Simulation\n",
            "\n",
            "1. Deposit\n",
            "2. Withdraw\n",
            "3. Check Balance\n",
            "4. Exit\n",
            "Enter choice: 2\n",
            "Enter amount to withdraw: ₹1000\n",
            "\n",
            "1. Deposit\n",
            "2. Withdraw\n",
            "3. Check Balance\n",
            "4. Exit\n",
            "Enter choice: 3\n",
            "Current Balance: ₹0.00\n",
            "\n",
            "1. Deposit\n",
            "2. Withdraw\n",
            "3. Check Balance\n",
            "4. Exit\n",
            "Enter choice: 3\n",
            "Current Balance: ₹0.00\n",
            "\n",
            "1. Deposit\n",
            "2. Withdraw\n",
            "3. Check Balance\n",
            "4. Exit\n",
            "Enter choice: 4\n",
            "Thank you for using ATM!\n"
          ]
        }
      ]
    },
    {
      "cell_type": "markdown",
      "source": [
        "4.cricket score tracker"
      ],
      "metadata": {
        "id": "no5C7PrBg2pY"
      }
    },
    {
      "cell_type": "code",
      "source": [
        "print(\"Cricket Score Tracker\")\n",
        "scores = {\n",
        "    \"Rohit\": 45,\n",
        "    \"Virat\": 80,\n",
        "    \"Rahul\": 50,\n",
        "    \"Surya\": 65,\n",
        "    \"Hardik\": 30\n",
        "}\n",
        "\n",
        "# Top Scorer\n",
        "top_player = max(scores, key=scores.get)\n",
        "print(f\"Top Scorer: {top_player} ({scores[top_player]} runs)\")\n",
        "\n",
        "# Update Score\n",
        "player = input(\"Enter player name to update score: \")\n",
        "if player in scores:\n",
        "    new_score = int(input(\"Enter new score: \"))\n",
        "    scores[player] = new_score\n",
        "    print(\"Score Updated:\", scores)\n",
        "else:\n",
        "    print(\"Player not found!\")"
      ],
      "metadata": {
        "colab": {
          "base_uri": "https://localhost:8080/"
        },
        "id": "h1Wy58Ohg7dL",
        "outputId": "bfd8b1bd-d184-4bc3-c526-afc1e195c3da"
      },
      "execution_count": null,
      "outputs": [
        {
          "output_type": "stream",
          "name": "stdout",
          "text": [
            "Cricket Score Tracker\n",
            "Top Scorer: Virat (80 runs)\n",
            "Enter player name to update score: Virat\n",
            "Enter new score: 1888\n",
            "Score Updated: {'Rohit': 45, 'Virat': 1888, 'Rahul': 50, 'Surya': 65, 'Hardik': 30}\n"
          ]
        }
      ]
    },
    {
      "cell_type": "markdown",
      "source": [
        "5.Restaurant order system"
      ],
      "metadata": {
        "id": "CBMRL9adhESA"
      }
    },
    {
      "cell_type": "code",
      "source": [
        "print(\"Restaurant Order System\")\n",
        "menu = {\"Pizza\": 250, \"Burger\": 120, \"Pasta\": 150, \"Fries\": 80}\n",
        "total = 0\n",
        "\n",
        "while True:\n",
        "    order = input(\"Enter item to order (or 'done'): \")\n",
        "    if order.lower() == \"done\":\n",
        "        break\n",
        "    if order in menu:\n",
        "        total += menu[order]\n",
        "    else:\n",
        "        print(\"Item not available!\")\n",
        "\n",
        "if \"Pizza\" in menu:\n",
        "    discount = 50\n",
        "    total -= discount\n",
        "    print(f\"₹50 off for Pizza!\")\n",
        "\n",
        "print(\"Final Bill: ₹\", total)"
      ],
      "metadata": {
        "colab": {
          "base_uri": "https://localhost:8080/"
        },
        "id": "91R4hVRfhIdn",
        "outputId": "943ca484-0d69-4363-aed3-6cb332255bbc"
      },
      "execution_count": null,
      "outputs": [
        {
          "output_type": "stream",
          "name": "stdout",
          "text": [
            "Restaurant Order System\n",
            "Enter item to order (or 'done'): Juice\n",
            "Item not available!\n",
            "Enter item to order (or 'done'): Done\n",
            "₹50 off for Pizza!\n",
            "Final Bill: ₹ -50\n"
          ]
        }
      ]
    },
    {
      "cell_type": "markdown",
      "source": [
        "6.Temperature conversation tool"
      ],
      "metadata": {
        "id": "ULZf8MothQ3U"
      }
    },
    {
      "cell_type": "code",
      "source": [
        "print(\"Temperature Conversion\")\n",
        "c = float(input(\"Enter temperature in Celsius: \"))\n",
        "f = (c * 9/5) + 32\n",
        "print(f\"{c}°C = {f:.2f}°F\")"
      ],
      "metadata": {
        "colab": {
          "base_uri": "https://localhost:8080/"
        },
        "id": "D3UI8HschWxk",
        "outputId": "02518fc9-5266-41a7-d2bd-7597ad61f462"
      },
      "execution_count": null,
      "outputs": [
        {
          "output_type": "stream",
          "name": "stdout",
          "text": [
            "Temperature Conversion\n",
            "Enter temperature in Celsius: 31\n",
            "31.0°C = 87.80°F\n"
          ]
        }
      ]
    },
    {
      "cell_type": "markdown",
      "source": [
        "7.Online shopping cart"
      ],
      "metadata": {
        "id": "TSOx2n5zhaLZ"
      }
    },
    {
      "cell_type": "code",
      "source": [
        "print(\"Online Shopping Cart\")\n",
        "cart = []\n",
        "\n",
        "while True:\n",
        "    action = input(\"Add / Remove / View / Checkout: \").lower()\n",
        "    if action == \"add\":\n",
        "        item = input(\"Enter item to add: \")\n",
        "        cart.append(item)\n",
        "    elif action == \"remove\":\n",
        "        item = input(\"Enter item to remove: \")\n",
        "        if item in cart:\n",
        "            cart.remove(item)\n",
        "        else:\n",
        "            print(\"Item not in cart!\")\n",
        "    elif action == \"view\":\n",
        "        print(\"Cart:\", cart)\n",
        "    elif action == \"checkout\":\n",
        "        print(\"Final Cart:\", cart)\n",
        "        break\n",
        "    else:\n",
        "        print(\"Invalid action!\")"
      ],
      "metadata": {
        "colab": {
          "base_uri": "https://localhost:8080/"
        },
        "id": "croxR75yhfr_",
        "outputId": "8375b3aa-f807-41f0-958a-8b5f3096e7f8"
      },
      "execution_count": null,
      "outputs": [
        {
          "output_type": "stream",
          "name": "stdout",
          "text": [
            "Online Shopping Cart\n",
            "Add / Remove / View / Checkout: Bag\n",
            "Invalid action!\n",
            "Add / Remove / View / Checkout: Add\n",
            "Enter item to add: Bag\n",
            "Add / Remove / View / Checkout: Checkout\n",
            "Final Cart: ['Bag']\n"
          ]
        }
      ]
    },
    {
      "cell_type": "markdown",
      "source": [
        "8.Student attendance tracker"
      ],
      "metadata": {
        "id": "Sun8bDEuhsGZ"
      }
    },
    {
      "cell_type": "code",
      "source": [
        "print(\"Student Attendance Tracker\")\n",
        "students = [\"Amit\", \"Ravi\", \"Priya\", \"Neha\", \"Arjun\"]\n",
        "present = 0\n",
        "absent = 0\n",
        "\n",
        "for name in students:\n",
        "    status = input(f\"Mark attendance for {name} (P/A): \").upper()\n",
        "    if status == \"P\":\n",
        "        present += 1\n",
        "    else:\n",
        "        absent += 1\n",
        "\n",
        "print(\"Present:\", present)\n",
        "print(\"Absent:\", absent)"
      ],
      "metadata": {
        "colab": {
          "base_uri": "https://localhost:8080/"
        },
        "id": "gP201HkThxLl",
        "outputId": "e434546f-ab4f-4048-98e3-36960a662bc3"
      },
      "execution_count": null,
      "outputs": [
        {
          "output_type": "stream",
          "name": "stdout",
          "text": [
            "Student Attendance Tracker\n",
            "Mark attendance for Amit (P/A): P\n",
            "Mark attendance for Ravi (P/A): A\n",
            "Mark attendance for Priya (P/A): P\n",
            "Mark attendance for Neha (P/A): P\n",
            "Mark attendance for Arjun (P/A): A\n",
            "Present: 3\n",
            "Absent: 2\n"
          ]
        }
      ]
    },
    {
      "cell_type": "markdown",
      "source": [
        "9.Cinema ticket booking system"
      ],
      "metadata": {
        "id": "RDuwDyj8iDNJ"
      }
    },
    {
      "cell_type": "code",
      "source": [
        "print(\"Cinema Ticket Booking System\")\n",
        "seats = 50\n",
        "ticket_price = 120\n",
        "\n",
        "while seats > 0:\n",
        "    req = int(input(\"How many tickets do you want? \"))\n",
        "    if req <= seats:\n",
        "        cost = req * ticket_price\n",
        "        seats -= req\n",
        "        print(f\"Booking Confirmed! Pay ₹{cost}.\")\n",
        "        print(f\"Remaining Seats: {seats}\")\n",
        "    else:\n",
        "        print(\"Not enough seats available!\")\n",
        "    cont = input(\"Book more? (y/n): \")\n",
        "    if cont.lower() != \"y\":\n",
        "        break"
      ],
      "metadata": {
        "colab": {
          "base_uri": "https://localhost:8080/"
        },
        "id": "wWgLbQK7iIFK",
        "outputId": "6747b910-22ac-44d9-f329-83793bfa166a"
      },
      "execution_count": null,
      "outputs": [
        {
          "name": "stdout",
          "output_type": "stream",
          "text": [
            "Cinema Ticket Booking System\n",
            "How many tickets do you want? 5\n",
            "Booking Confirmed! Pay ₹600.\n",
            "Remaining Seats: 45\n",
            "Book more? (y/n): N\n"
          ]
        }
      ]
    },
    {
      "cell_type": "markdown",
      "source": [
        "Bank loan eligibility checker"
      ],
      "metadata": {
        "id": "wCyO_JjDiI0a"
      }
    },
    {
      "cell_type": "code",
      "source": [
        "print(\"Bank Loan Eligibility Checker\")\n",
        "salary = int(input(\"Enter monthly salary: ₹\"))\n",
        "credit = int(input(\"Enter credit score: \"))\n",
        "age = int(input(\"Enter age: \"))\n",
        "\n",
        "if salary >= 25000 and credit >= 650 and 21 <= age <= 60:\n",
        "    print(\"✅ Loan Approved!\")\n",
        "else:\n",
        "    print(\"❌ Loan Rejected!\")"
      ],
      "metadata": {
        "id": "nVmwavyviUDL",
        "outputId": "712f00d8-fa75-42ea-a14e-7659dd81e088",
        "colab": {
          "base_uri": "https://localhost:8080/"
        }
      },
      "execution_count": null,
      "outputs": [
        {
          "name": "stdout",
          "output_type": "stream",
          "text": [
            "Bank Loan Eligibility Checker\n",
            "Enter monthly salary: ₹50000\n"
          ]
        }
      ]
    }
  ]
}