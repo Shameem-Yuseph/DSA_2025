{
  "nbformat": 4,
  "nbformat_minor": 0,
  "metadata": {
    "colab": {
      "provenance": [],
      "authorship_tag": "ABX9TyNTKdD+WqZRDrfcigY3TzBa",
      "include_colab_link": true
    },
    "kernelspec": {
      "name": "python3",
      "display_name": "Python 3"
    },
    "language_info": {
      "name": "python"
    }
  },
  "cells": [
    {
      "cell_type": "markdown",
      "metadata": {
        "id": "view-in-github",
        "colab_type": "text"
      },
      "source": [
        "<a href=\"https://colab.research.google.com/github/Shameem-Yuseph/DSA_2025/blob/dsa/statistics_Shameem_Yuseph.ipynb\" target=\"_parent\"><img src=\"https://colab.research.google.com/assets/colab-badge.svg\" alt=\"Open In Colab\"/></a>"
      ]
    },
    {
      "cell_type": "markdown",
      "source": [
        "1. Dataset: Monthly temperatures in a city (in °C): 12, 15, 14, 16, 18, 20, 22, 19,\n",
        "17, 15, 13, 10 Questions:\n",
        "a) Calculate the mean temperature.\n",
        "b) Calculate the median temperature.\n",
        "c) Find the mode of the temperature data.\n",
        "d) Range and Variance"
      ],
      "metadata": {
        "id": "TTOGbdFDmLt6"
      }
    },
    {
      "cell_type": "code",
      "execution_count": null,
      "metadata": {
        "colab": {
          "base_uri": "https://localhost:8080/"
        },
        "id": "aiTYXvzflmiy",
        "outputId": "3281433e-28f1-431c-b645-ce343a3b9461"
      },
      "outputs": [
        {
          "output_type": "stream",
          "name": "stdout",
          "text": [
            "Mean Temperature: 16.555555555555557\n",
            "Median Temperature: 16\n",
            "Mode Temperature: 12\n",
            "Range: 10\n",
            "Variance: 10.691358024691358\n"
          ]
        }
      ],
      "source": [
        " import numpy as np\n",
        " from statistics import mean, median, mode, variance\n",
        "\n",
        " temps = [12,15,16,18,19,20,22,12,15]\n",
        "\n",
        " mean_temp = mean(temps)\n",
        "\n",
        " median_temp = median(temps)\n",
        "\n",
        " mode_temp = mode(temps)\n",
        "\n",
        " range_temp = max(temps) - min(temps)\n",
        "\n",
        " variance_temp = np.var(temps)\n",
        "\n",
        " print(\"Mean Temperature:\", mean_temp)\n",
        " print(\"Median Temperature:\", median_temp)\n",
        " print(\"Mode Temperature:\", mode_temp)\n",
        " print(\"Range:\", range_temp)\n",
        " print(\"Variance:\", variance_temp)"
      ]
    },
    {
      "cell_type": "markdown",
      "source": [
        "2. Dataset: Heights of students (in cm): 150, 160, 165, 170, 155, 160, 162, 168\n",
        "Questions: a) Calculate the range of the heights.\n",
        "b) Calculate the variance of the heights.\n",
        "c) Standard Deviation."
      ],
      "metadata": {
        "id": "0xDld2pIo6Gb"
      }
    },
    {
      "cell_type": "code",
      "source": [
        "import math\n",
        "\n",
        "heights = [150, 160, 165, 170, 155, 160, 162, 168]\n",
        "\n",
        "range_heights = max(heights) - min(heights)\n",
        "\n",
        "mean_height = sum(heights) / len(heights)\n",
        "\n",
        "squared_diff = [(x - mean_height) ** 2 for x in heights]\n",
        "variance = sum(squared_diff) / len(heights)\n",
        "\n",
        "std_dev = math.sqrt(variance)\n",
        "\n",
        "print(\"Range:\", range_heights)=[ 200, 250, 300, 220, 270, 290, 310]\n",
        "mean = sum(expenses) / len(expenses)\n",
        "variance= sum((x-mean) ** 2 for x in expenses) / len(expenses)\n",
        "\n",
        "if variance >=0:\n",
        "  std = variance ** 0.5\n",
        "else:\n",
        "  std = None\n",
        "print('Standard Deviation: ',std\n",
        "print(\"Variance:\", variance)\n",
        "print(\"Standard Deviation:\",std_dev)"
      ],
      "metadata": {
        "colab": {
          "base_uri": "https://localhost:8080/"
        },
        "id": "CyKxaiWhpCL6",
        "outputId": "09a62e5d-dfd8-4fa3-ac37-9df469af60bb"
      },
      "execution_count": null,
      "outputs": [
        {
          "output_type": "stream",
          "name": "stdout",
          "text": [
            "Range: 20\n",
            "Variance: 38.1875\n",
            "Standard Deviation: 6.179603547154137\n"
          ]
        }
      ]
    },
    {
      "cell_type": "markdown",
      "source": [
        "3. Dataset: Weekly expenses (in $): 200, 250, 300, 220, 270, 290, 310\n",
        "Questions: a) Calculate the standard deviation of the weekly expenses."
      ],
      "metadata": {
        "id": "VNmVifqHp89c"
      }
    },
    {
      "cell_type": "code",
      "source": [
        "expenses =[ 200, 250, 300, 220, 270, 290, 310]\n",
        "mean = sum(expenses) / len(expenses)\n",
        "variance= sum((x-mean) ** 2 for x in expenses) / len(expenses)\n",
        "\n",
        "if variance >=0:\n",
        "  std = variance ** 0.5\n",
        "else:\n",
        "  std = None\n",
        "print('Standard Deviation: ',std)"
      ],
      "metadata": {
        "colab": {
          "base_uri": "https://localhost:8080/"
        },
        "id": "jx-AbOk6qNi2",
        "outputId": "0f44cd1e-11c8-4372-bb80-3948bb9df232"
      },
      "execution_count": null,
      "outputs": [
        {
          "output_type": "stream",
          "name": "stdout",
          "text": [
            "Standard Deviation:  38.438925848782034\n"
          ]
        }
      ]
    },
    {
      "cell_type": "markdown",
      "source": [
        "4. Dataset: Advertising Spending (in $1000s): 10, 20, 15, 25, 30; Sales (in\n",
        "$1000s): 100, 150, 120, 180, 200\n",
        "Questions: a) Calculate the covariance between advertising spending and sales.\n",
        "b) Correlation"
      ],
      "metadata": {
        "id": "cvNKnupltfPO"
      }
    },
    {
      "cell_type": "code",
      "source": [
        "import numpy as np\n",
        "advertising = [10, 20, 15, 25, 30]\n",
        "sales = [100, 150, 120, 180, 200]\n",
        "\n",
        "cov_matrix = np.cov(advertising, sales, ddof=0)\n",
        "covariance = cov_matrix[0, 1]\n",
        "\n",
        "correlation = np.corrcoef(advertising, sales)[0, 1]\n",
        "\n",
        "print(\"Covariance:\", covariance)\n",
        "print(\"Correlation:\",correlation)"
      ],
      "metadata": {
        "colab": {
          "base_uri": "https://localhost:8080/"
        },
        "id": "VOl_N1ibtni9",
        "outputId": "5c8e92af-5e5a-403e-c577-e61f73ea3184"
      },
      "execution_count": null,
      "outputs": [
        {
          "output_type": "stream",
          "name": "stdout",
          "text": [
            "Covariance: 260.0\n",
            "Correlation: 0.9970544855015815\n"
          ]
        }
      ]
    },
    {
      "cell_type": "markdown",
      "source": [
        "5. Dataset: Study Hours: 2, 4, 6, 8, 10; Exam Scores: 55, 60, 65, 70, 75\n",
        "Questions: a) Calculate the correlation coefficient between study hours and exam\n",
        "scores.\n",
        "b) Interpret the result.\n",
        "c) Quartiles and IQR"
      ],
      "metadata": {
        "id": "abmMqLS5wS3l"
      }
    },
    {
      "cell_type": "code",
      "source": [
        "import numpy as np\n",
        "\n",
        "hours = [2, 4, 6, 8, 10]\n",
        "scores = [55, 60, 65, 70, 75]\n",
        "\n",
        "corr_matrix = np.corrcoef(hours, scores)\n",
        "corr = corr_matrix[0][1]\n",
        "\n",
        "quartiles = np.percentile(scores, [25, 50, 75])\n",
        "iqr = quartiles[2] - quartiles[0]\n",
        "\n",
        "print(\"Correlation Coefficient:\", corr)\n",
        "print(\"Quartiles:\", quartiles)\n",
        "print(\"IQR:\",iqr)"
      ],
      "metadata": {
        "colab": {
          "base_uri": "https://localhost:8080/"
        },
        "id": "TWyaOct2whvh",
        "outputId": "83816508-b7c8-4434-96cd-cc1683b0c532"
      },
      "execution_count": null,
      "outputs": [
        {
          "output_type": "stream",
          "name": "stdout",
          "text": [
            "Correlation Coefficient: 1.0\n",
            "Quartiles: [60. 65. 70.]\n",
            "IQR: 10.0\n"
          ]
        }
      ]
    },
    {
      "cell_type": "markdown",
      "source": [
        "6. Dataset: Monthly savings (in $): 200, 300, 400, 500, 600, 700, 800, 900, 1000,\n",
        "1100 Questions: a) Calculate the first quartile (Q1) and third quartile (Q3).\n",
        "b) Calculate the interquartile range (IQR).\n",
        "c) Detecting Outliers"
      ],
      "metadata": {
        "id": "-YN9QAN02SwV"
      }
    },
    {
      "cell_type": "code",
      "source": [
        "import numpy as np\n",
        "\n",
        "savings = [200,300,400,500,600,700,800,900,1000,1100]\n",
        "q1 = np.percentile(savings,25)\n",
        "q3 = np.percentile(savings,75)\n",
        "\n",
        "iqr = q3-q1\n",
        "lower = q1-1.5*iqr\n",
        "upper = q3+1.5*iqr\n",
        "\n",
        "outliers = [x for x in savings if x<lower or x>upper]\n",
        "print(\"Q1:\",q1,\"Q3:\",q3,\"IQR:\",iqr,\"Outliers:\",outliers)"
      ],
      "metadata": {
        "colab": {
          "base_uri": "https://localhost:8080/"
        },
        "id": "KfBX8Zb82Zuc",
        "outputId": "cdb02fef-7102-44ad-8fd7-83b6f407fc8e"
      },
      "execution_count": null,
      "outputs": [
        {
          "output_type": "stream",
          "name": "stdout",
          "text": [
            "Q1: 425.0 Q3: 875.0 IQR: 450.0 Outliers: []\n"
          ]
        }
      ]
    },
    {
      "cell_type": "markdown",
      "source": [
        "7. Dataset: Ages of employees: 22, 25, 28, 30, 35, 40, 45, 50, 55, 100\n",
        "Questions: a) Identify any outliers using the IQR method"
      ],
      "metadata": {
        "id": "0C2sghXj2lGH"
      }
    },
    {
      "cell_type": "code",
      "source": [
        "import numpy as np\n",
        "\n",
        "def find_outliers_iqr(data):\n",
        "    data = np.array(data)\n",
        "\n",
        "    Q1 = np.percentile(data, 25)\n",
        "    Q3 = np.percentile(data, 75)\n",
        "    IQR = Q3 - Q1\n",
        "\n",
        "    lower_bound = Q1 - 1.5 * IQR\n",
        "    upper_bound = Q3 + 1.5 * IQR\n",
        "\n",
        "    outliers = data[(data < lower_bound) | (data > upper_bound)]\n",
        "\n",
        "    return outliers, lower_bound, upper_bound\n",
        "\n",
        "ages = [22, 25, 28, 30, 35, 40, 45, 50, 55, 100]\n",
        "\n",
        "outliers, lb, ub = find_outliers_iqr(ages)\n",
        "\n",
        "print(\"Lower Bound:\", lb)\n",
        "print(\"Upper Bound:\", ub)\n",
        "print(\"Outliers:\",outliers)"
      ],
      "metadata": {
        "colab": {
          "base_uri": "https://localhost:8080/"
        },
        "id": "CF5fVMHf3JCZ",
        "outputId": "f9db2bb9-8646-4e3e-93c8-b9d472c966c0"
      },
      "execution_count": null,
      "outputs": [
        {
          "output_type": "stream",
          "name": "stdout",
          "text": [
            "Lower Bound: -1.875\n",
            "Upper Bound: 79.125\n",
            "Outliers: [100]\n"
          ]
        }
      ]
    },
    {
      "cell_type": "markdown",
      "source": [
        "8. Dataset: Observed frequencies of customer preferences for three products::\n",
        "Product A: 50, 55, 60\n",
        "Product B: 30, 25, 35\n",
        "Product C: 20, 20, 25\n",
        "Questions: a) Perform a chi-square test to determine if there is a significant\n",
        "difference in customer preferences among the three products. b) Hypothesis\n",
        "Testing"
      ],
      "metadata": {
        "id": "U3uAI2Na3LgB"
      }
    },
    {
      "cell_type": "code",
      "source": [
        "import numpy as np\n",
        "from scipy.stats import chi2_contingency\n",
        "\n",
        "def chi_square_test(data):\n",
        "\n",
        "    chi2, p, dof, expected = chi2_contingency(data)\n",
        "\n",
        "    return chi2, p, dof, expected\n",
        "\n",
        "data = [\n",
        "    [50, 55, 60],\n",
        "    [30, 25, 35],\n",
        "    [20, 20, 25]\n",
        "]\n",
        "\n",
        "chi2, p, dof, expected = chi_square_test(data)\n",
        "\n",
        "print(\"Chi-square Statistic:\", chi2)\n",
        "print(\"Degrees of Freedom:\", dof)\n",
        "print(\"p-value:\", p)\n",
        "print(\"Expected Frequencies:\\n\", expected)\n",
        "\n",
        "alpha = 0.05\n",
        "if p < alpha:\n",
        "    print(\"Reject Null Hypothesis: Significant difference in preferences.\")\n",
        "else:\n",
        "    print(\"Fail to Reject Null Hypothesis: No significant difference in preferences.\")"
      ],
      "metadata": {
        "colab": {
          "base_uri": "https://localhost:8080/"
        },
        "id": "rMzYHqD0440v",
        "outputId": "6309ff4b-4f0b-44f6-ca2b-1048e7241d96"
      },
      "execution_count": null,
      "outputs": [
        {
          "output_type": "stream",
          "name": "stdout",
          "text": [
            "Chi-square Statistic: 0.8774928774928774\n",
            "Degrees of Freedom: 4\n",
            "p-value: 0.9277673918614506\n",
            "Expected Frequencies:\n",
            " [[51.5625 51.5625 61.875 ]\n",
            " [28.125  28.125  33.75  ]\n",
            " [20.3125 20.3125 24.375 ]]\n",
            "Fail to Reject Null Hypothesis: No significant difference in preferences.\n"
          ]
        }
      ]
    },
    {
      "cell_type": "markdown",
      "source": [
        "9. Dataset: Sample weights (in kg) of a new diet program: 70, 68, 72, 71, 69, 73,\n",
        "72, 74, 70, 71 Questions: a) Test the hypothesis that the mean weight after the\n",
        "diet program is equal to 70 kg at a 5% significance level. b) Z-Scores"
      ],
      "metadata": {
        "id": "fG77pUmDFPq5"
      }
    },
    {
      "cell_type": "code",
      "source": [
        "import numpy as np\n",
        "from scipy.stats import ttest_1samp, zscore\n",
        "\n",
        "def one_sample_ttest(data, mu0):\n",
        "    t_stat, p_value = ttest_1samp(data, mu0)\n",
        "    return t_stat, p_value\n",
        "\n",
        "def calculate_zscores(data):\n",
        "    return zscore(data)\n",
        "\n",
        "weights = [70, 68, 72, 71, 69, 73, 72, 74, 70, 71]\n",
        "\n",
        "t_stat, p_value = one_sample_ttest(weights, 70)\n",
        "\n",
        "print(\"T-statistic:\", t_stat)\n",
        "print(\"p-value:\", p_value)\n",
        "\n",
        "alpha = 0.05\n",
        "if p_value < alpha:\n",
        "    print(\"Reject Null Hypothesis: Mean is significantly different from 70.\")\n",
        "else:\n",
        "    print(\"Fail to Reject Null Hypothesis: Mean is not significantly different from 70.\")\n",
        "\n",
        "zscores = calculate_zscores(weights)\n",
        "print(\"Z-scores:\",zscores)"
      ],
      "metadata": {
        "colab": {
          "base_uri": "https://localhost:8080/"
        },
        "id": "uJl0eZhJFR-O",
        "outputId": "bbe78aaa-fbc8-4809-8e60-7bf5365dd309"
      },
      "execution_count": null,
      "outputs": [
        {
          "output_type": "stream",
          "name": "stdout",
          "text": [
            "T-statistic: 1.732050807568877\n",
            "p-value: 0.11730680301423822\n",
            "Fail to Reject Null Hypothesis: Mean is not significantly different from 70.\n",
            "Z-scores: [-0.57735027 -1.73205081  0.57735027  0.         -1.15470054  1.15470054\n",
            "  0.57735027  1.73205081 -0.57735027  0.        ]\n"
          ]
        }
      ]
    },
    {
      "cell_type": "markdown",
      "source": [
        "10. Dataset: Annual salaries of employees (in $1000s): 40, 42, 45, 47, 50, 52, 55,\n",
        "57, 60, 62 Questions: a) Calculate the z-scores for each salary.\n",
        "b) Interpret the z-scores.\n",
        "c) Normal Distribution"
      ],
      "metadata": {
        "id": "9yozBRw5NQQV"
      }
    },
    {
      "cell_type": "code",
      "source": [
        "import numpy as np\n",
        "import matplotlib.pyplot as plt\n",
        "from scipy.stats import norm\n",
        "\n",
        "salaries = np.array([40, 42, 45, 47, 50, 52, 55, 57, 60, 62])\n",
        "\n",
        "mean_salary = np.mean(salaries)\n",
        "std_salary = np.std(salaries, ddof=0)\n",
        "\n",
        "z_scores = (salaries - mean_salary) / std_salary\n",
        "\n",
        "print(\"Mean Salary:\", mean_salary)\n",
        "print(\"Standard Deviation:\", std_salary)\n",
        "print(\"Z-scores:\")\n",
        "for sal, z in zip(salaries, z_scores):\n",
        "    print(f\"Salary: {sal}, Z-score: {z:.2f}\")\n",
        "\n",
        "print(\"\\nInterpretation:\")\n",
        "for sal, z in zip(salaries, z_scores):\n",
        "    if z < -1:\n",
        "        interpretation = \"Below average (significantly)\"\n",
        "    elif -1 <= z <= 1:\n",
        "        interpretation = \"Around average\"\n",
        "    else:\n",
        "        interpretation = \"Above average (significantly)\"\n",
        "    print(f\"Salary {sal} -> Z-score {z:.2f}: {interpretation}\")\n",
        "\n",
        "x = np.linspace(min(salaries)-10, max(salaries)+10, 1000)\n",
        "y = norm.pdf(x, mean_salary, std_salary)\n",
        "\n",
        "plt.figure(figsize=(8,5))\n",
        "plt.plot(x, y, label='Normal Distribution')\n",
        "plt.hist(salaries, bins=10, density=True, alpha=0.6, color='skyblue', edgecolor='black')\n",
        "plt.axvline(mean_salary, color='red', linestyle='--', label=f'Mean = {mean_salary:.2f}')\n",
        "plt.scatter(salaries, norm.pdf(salaries, mean_salary, std_salary), color='black', zorder=5)\n",
        "plt.title(\"Normal Distribution of Employee Salaries\")\n",
        "plt.xlabel(\"Salary ($1000s)\")\n",
        "plt.ylabel(\"Density\")\n",
        "plt.legend()\n",
        "plt.show()"
      ],
      "metadata": {
        "colab": {
          "base_uri": "https://localhost:8080/",
          "height": 941
        },
        "id": "eYXTVlUChtUA",
        "outputId": "849962e9-ff9f-49b6-9151-0d3b9f79afd3"
      },
      "execution_count": 3,
      "outputs": [
        {
          "output_type": "stream",
          "name": "stdout",
          "text": [
            "Mean Salary: 51.0\n",
            "Standard Deviation: 7.14142842854285\n",
            "Z-scores:\n",
            "Salary: 40, Z-score: -1.54\n",
            "Salary: 42, Z-score: -1.26\n",
            "Salary: 45, Z-score: -0.84\n",
            "Salary: 47, Z-score: -0.56\n",
            "Salary: 50, Z-score: -0.14\n",
            "Salary: 52, Z-score: 0.14\n",
            "Salary: 55, Z-score: 0.56\n",
            "Salary: 57, Z-score: 0.84\n",
            "Salary: 60, Z-score: 1.26\n",
            "Salary: 62, Z-score: 1.54\n",
            "\n",
            "Interpretation:\n",
            "Salary 40 -> Z-score -1.54: Below average (significantly)\n",
            "Salary 42 -> Z-score -1.26: Below average (significantly)\n",
            "Salary 45 -> Z-score -0.84: Around average\n",
            "Salary 47 -> Z-score -0.56: Around average\n",
            "Salary 50 -> Z-score -0.14: Around average\n",
            "Salary 52 -> Z-score 0.14: Around average\n",
            "Salary 55 -> Z-score 0.56: Around average\n",
            "Salary 57 -> Z-score 0.84: Around average\n",
            "Salary 60 -> Z-score 1.26: Above average (significantly)\n",
            "Salary 62 -> Z-score 1.54: Above average (significantly)\n"
          ]
        },
        {
          "output_type": "display_data",
          "data": {
            "text/plain": [
              "<Figure size 800x500 with 1 Axes>"
            ],
            "image/png": "[encoded data removed]"
          },
          "metadata": {}
        }
      ]
    }
  ]
}