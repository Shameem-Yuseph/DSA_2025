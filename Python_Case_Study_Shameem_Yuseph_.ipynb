{
  "nbformat": 4,
  "nbformat_minor": 0,
  "metadata": {
    "colab": {
      "provenance": [],
      "include_colab_link": true
    },
    "kernelspec": {
      "name": "python3",
      "display_name": "Python 3"
    },
    "language_info": {
      "name": "python"
    }
  },
  "cells": [
    {
      "cell_type": "markdown",
      "metadata": {
        "id": "view-in-github",
        "colab_type": "text"
      },
      "source": [
        "<a href=\"https://colab.research.google.com/github/Shameem-Yuseph/DSA_2025/blob/dsa/Python_Case_Study_Shameem_Yuseph_.ipynb\" target=\"_parent\"><img src=\"https://colab.research.google.com/assets/colab-badge.svg\" alt=\"Open In Colab\"/></a>"
      ]
    },
    {
      "cell_type": "markdown",
      "source": [
        "# Answer the following questions using only builtin Python datatypes and functions. Do not use Numpy or Scipy (i.e. No library imports allowed)"
      ],
      "metadata": {
        "id": "zVV_KMSIUG-A"
      }
    },
    {
      "cell_type": "markdown",
      "source": [
        "# Q1. Write a function that return the range (maximum and minimun) of a given list of numbers"
      ],
      "metadata": {
        "id": "uZnK7VgWV5SI"
      }
    },
    {
      "cell_type": "code",
      "source": [
        " num = [1,5,7,9,6]\n",
        " def find_range(num):\n",
        "   if not num:\n",
        "      return None\n",
        "   return max(num) - min(num)\n",
        " find_range(num)"
      ],
      "metadata": {
        "id": "vuAbJQcOWAM7",
        "colab": {
          "base_uri": "https://localhost:8080/"
        },
        "outputId": "13a13a9b-d040-4085-b127-94194cdef525"
      },
      "execution_count": null,
      "outputs": [
        {
          "output_type": "execute_result",
          "data": {
            "text/plain": [
              "8"
            ]
          },
          "metadata": {},
          "execution_count": 8
        }
      ]
    },
    {
      "cell_type": "markdown",
      "source": [],
      "metadata": {
        "id": "O_acmbxYCq_X"
      }
    },
    {
      "cell_type": "markdown",
      "source": [
        "## Q2. Write function that returns mean value of a list of numbers"
      ],
      "metadata": {
        "id": "Y5_v5a8_U1O-"
      }
    },
    {
      "cell_type": "code",
      "source": [
        " numbers = [5,9,8,78,6,4]\n",
        " def find_mean(numbers):\n",
        "   if not numbers:\n",
        "      return None\n",
        "   return sum(numbers)/len(numbers)\n",
        " find_mean(numbers)"
      ],
      "metadata": {
        "id": "RajjEyacU7Sc",
        "colab": {
          "base_uri": "https://localhost:8080/"
        },
        "outputId": "d845de95-ce51-48da-8303-3ac504b15fdc"
      },
      "execution_count": null,
      "outputs": [
        {
          "output_type": "execute_result",
          "data": {
            "text/plain": [
              "18.333333333333332"
            ]
          },
          "metadata": {},
          "execution_count": 11
        }
      ]
    },
    {
      "cell_type": "markdown",
      "source": [
        "# Q3. Write a function that returns the median value of a list of numbers"
      ],
      "metadata": {
        "id": "OpeRxoEoVTIP"
      }
    },
    {
      "cell_type": "code",
      "source": [
        " numbers =[6,9,8,4,3,1]\n",
        "\n",
        " def find_median(nums):\n",
        "   if not nums:\n",
        "      return None\n",
        "   sorted_nums=sorted(nums)\n",
        "   n = len(sorted_nums)\n",
        "   mid = n//2\n",
        "   if n%2 == 0:\n",
        "      return(sorted_nums[mid-1]+sorted_nums[mid])/2\n",
        "   else:\n",
        "      return sorted_nums[mid]\n",
        "\n",
        "print(\"Median:\",find_median(numbers))"
      ],
      "metadata": {
        "id": "u1CUy0UOVaQi",
        "colab": {
          "base_uri": "https://localhost:8080/"
        },
        "outputId": "3cec2c0b-3ec0-4f2f-fd80-e2fa26b8986e"
      },
      "execution_count": null,
      "outputs": [
        {
          "output_type": "stream",
          "name": "stdout",
          "text": [
            "Median: 5.0\n"
          ]
        }
      ]
    },
    {
      "cell_type": "markdown",
      "source": [
        "## Q4. Write a function to return the mod of a list of numbers, if no mod exists, it should return None. If more than one mod exist, return the mod values as list"
      ],
      "metadata": {
        "id": "2EMOG7AZSqVn"
      }
    },
    {
      "cell_type": "code",
      "execution_count": null,
      "metadata": {
        "id": "qnMm2dhhSk3-",
        "colab": {
          "base_uri": "https://localhost:8080/"
        },
        "outputId": "5d5ff826-51d6-45dd-8a06-add59647d59e"
      },
      "outputs": [
        {
          "output_type": "stream",
          "name": "stdout",
          "text": [
            "Mod value : 65\n"
          ]
        }
      ],
      "source": [
        " num = [7,78,98,65,43,12,3]\n",
        "\n",
        " def modd(n):\n",
        "  print(f\"Mod value : {max(set(n), key=num.count)}\")\n",
        " modd(num)"
      ]
    },
    {
      "cell_type": "markdown",
      "source": [
        "## Q5. Write function to compute a given percentile value (e.g. 90th percentile) of a list of numbers"
      ],
      "metadata": {
        "id": "LcqWwqtgTCiL"
      }
    },
    {
      "cell_type": "code",
      "source": [
        "  num = [43,76,56,34,12,10,9]\n",
        "  num.sort()\n",
        "\n",
        "  nums_below_value_to_check = 43\n",
        "\n",
        "  below_num = 0\n",
        "\n",
        "  for i in num:\n",
        "    below_num += 1\n",
        "    if i == nums_below_value_to_check:\n",
        "      break\n",
        "\n",
        "  print(f\"sorted list :{num}\")\n",
        "  print(f\"we have this much number below {nums_below_value_to_check} : {below_num -1}\")\n"
      ],
      "metadata": {
        "id": "Sn307h0TTb2b",
        "colab": {
          "base_uri": "https://localhost:8080/"
        },
        "outputId": "ac8e069b-9c86-446c-ae4a-8cf2d081c62b"
      },
      "execution_count": null,
      "outputs": [
        {
          "output_type": "stream",
          "name": "stdout",
          "text": [
            "sorted list :[9, 10, 12, 34, 43, 56, 76]\n",
            "we have this much number below 43 : 4\n"
          ]
        }
      ]
    },
    {
      "cell_type": "markdown",
      "source": [
        "# Q6. Write a function that returns the lower bound of a list of numbers"
      ],
      "metadata": {
        "id": "N-TYHkDcWOfS"
      }
    },
    {
      "cell_type": "code",
      "source": [
        " def low_bound(num):\n",
        "     if not num:\n",
        "         return None\n",
        "     return min(num)\n",
        "\n",
        " num = [56,98,78,54,23,1,2]\n",
        " print(f\"lower bond value : {low_bound(num)}\")\n"
      ],
      "metadata": {
        "id": "Y-RKPdKuW5nx",
        "colab": {
          "base_uri": "https://localhost:8080/"
        },
        "outputId": "294801b3-da8b-47c0-85a8-5420520112ca"
      },
      "execution_count": null,
      "outputs": [
        {
          "output_type": "stream",
          "name": "stdout",
          "text": [
            "lower bond value : 1\n"
          ]
        }
      ]
    },
    {
      "cell_type": "markdown",
      "source": [
        "## Q7. Write function to return any outliers from a given list of numbers, if no outliers present it should return None"
      ],
      "metadata": {
        "id": "5aHfaI_jThpX"
      }
    },
    {
      "cell_type": "code",
      "source": [
        " list1 = [23,87,56,43,26,3,250]\n",
        "\n",
        " def find_outliers(numbers):\n",
        "     numbers = sorted(numbers)\n",
        "     q1 = numbers[len(numbers)//4]\n",
        "     q3 = numbers[(len(numbers)*3)//4]\n",
        "     iqr = q3 - q1\n",
        "     lower = q1 - 1.5 * iqr\n",
        "     upper = q3 + 1.5 * iqr\n",
        "\n",
        "     outliers = [x for x in numbers if x < lower or x > upper]\n",
        "     return outliers or None\n",
        "\n",
        " print(find_outliers(list1))\n",
        " print(find_outliers([2,4,6,100,5]))\n",
        "\n"
      ],
      "metadata": {
        "id": "gG6-qzT7T0Si",
        "colab": {
          "base_uri": "https://localhost:8080/"
        },
        "outputId": "f828a88f-a818-4717-c5cc-5f456b4cbb4b"
      },
      "execution_count": null,
      "outputs": [
        {
          "output_type": "stream",
          "name": "stdout",
          "text": [
            "[250]\n",
            "[100]\n"
          ]
        }
      ]
    },
    {
      "cell_type": "markdown",
      "source": [
        "##Q8. Write a function to return standard deviation of a list of numbers"
      ],
      "metadata": {
        "id": "jI9t-tcDT5EK"
      }
    },
    {
      "cell_type": "code",
      "source": [
        " def standard_deviation(numbers):\n",
        "     mean = sum(numbers) / len(numbers)\n",
        "     variance = sum((x-mean) ** 2 for x in numbers) / len(numbers)\n",
        "\n",
        "     return variance ** 0.5\n",
        "\n",
        " nums = [10,12,14,15,14,13]\n",
        " print(standard_deviation(nums))\n"
      ],
      "metadata": {
        "id": "MMU_cMlLUFxJ",
        "colab": {
          "base_uri": "https://localhost:8080/"
        },
        "outputId": "136fe1f0-e2f3-4ce8-ab4d-36e1342aab0f"
      },
      "execution_count": null,
      "outputs": [
        {
          "output_type": "stream",
          "name": "stdout",
          "text": [
            "1.632993161855452\n"
          ]
        }
      ]
    },
    {
      "cell_type": "markdown",
      "source": [
        "## Q9. Write function to compute and return Z-score values of a list of numbers"
      ],
      "metadata": {
        "id": "LufmQDJPURkM"
      }
    },
    {
      "cell_type": "code",
      "source": [
        "num = [10, 12, 14]\n",
        "\n",
        "def z_scores(numbers):\n",
        "    mean = sum(numbers) / len(numbers)\n",
        "    variance = sum((x - mean) ** 2 for x in numbers) / len(numbers)\n",
        "    std_dev = variance ** 0.5\n",
        "\n",
        "    return [(x - mean) / std_dev for x in numbers]\n",
        "\n",
        "print(z_scores(num))"
      ],
      "metadata": {
        "id": "ml2qpSpFUYxV",
        "colab": {
          "base_uri": "https://localhost:8080/"
        },
        "outputId": "7019b776-30d1-46de-8daf-a1284a2b37b8"
      },
      "execution_count": null,
      "outputs": [
        {
          "output_type": "stream",
          "name": "stdout",
          "text": [
            "[-1.224744871391589, 0.0, 1.224744871391589]\n"
          ]
        }
      ]
    },
    {
      "cell_type": "markdown",
      "source": [
        "## Q10. Write a function to compute and return the Pearson correlation coefficient value of two list of numbers"
      ],
      "metadata": {
        "id": "YQSNHIfxUb6s"
      }
    },
    {
      "cell_type": "code",
      "source": [
        "def pearson_correlation(x, y):\n",
        "    if len(x) != len(y):\n",
        "        raise ValueError(\"Lists must be of the same length\")\n",
        "\n",
        "    n = len(x)\n",
        "    mean_x = sum(x) / n\n",
        "    mean_y = sum(y) / n\n",
        "\n",
        "    numerator = sum((x[i] - mean_x) * (y[i] - mean_y) for i in range(n))\n",
        "    denominator_x = sum((x[i] - mean_x) ** 2 for i in range(n)) ** 0.5\n",
        "    denominator_y = sum((y[i] - mean_y) ** 2 for i in range(n)) ** 0.5\n",
        "\n",
        "    return numerator / (denominator_x * denominator_y)\n",
        "\n",
        "# Example\n",
        "x = [1, 2, 3, 4, 5]\n",
        "y = [2, 4, 5, 4, 5]\n",
        "print(pearson_correlation(x, y))"
      ],
      "metadata": {
        "id": "1YGqr3T6Uk6H",
        "colab": {
          "base_uri": "https://localhost:8080/"
        },
        "outputId": "27cdecaa-0940-475e-ab87-81c73d0dc9bd"
      },
      "execution_count": null,
      "outputs": [
        {
          "output_type": "stream",
          "name": "stdout",
          "text": [
            "0.7745966692414834\n"
          ]
        }
      ]
    }
  ]
}